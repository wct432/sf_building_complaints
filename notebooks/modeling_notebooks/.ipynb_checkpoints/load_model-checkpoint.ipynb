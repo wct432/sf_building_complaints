{
 "cells": [
  {
   "cell_type": "markdown",
   "id": "8a48912b",
   "metadata": {
    "toc": true
   },
   "source": [
    "<h1>Table of Contents<span class=\"tocSkip\"></span></h1>\n",
    "<div class=\"toc\"><ul class=\"toc-item\"></ul></div>"
   ]
  },
  {
   "cell_type": "code",
   "execution_count": 1,
   "id": "09b93b60",
   "metadata": {},
   "outputs": [],
   "source": [
    "from imblearn.pipeline import make_pipeline\n",
    "from imblearn.over_sampling import SMOTENC\n",
    "import sys\n",
    "import numpy as np\n",
    "from numpy import array\n",
    "import os\n",
    "import pandas as pd\n",
    "import pickle\n",
    "from tqdm.auto import tqdm\n",
    "sys.path.append('../')\n",
    "from src.pipeline_helpers import get_proportions\n",
    "from src.clean_data import normalize_text\n",
    "from sklearn.utils import class_weight\n",
    "from sklearn.model_selection import train_test_split\n",
    "import tensorflow as tf\n",
    "from tensorflow.keras.preprocessing.text import Tokenizer\n",
    "from tensorflow.keras.preprocessing.sequence import pad_sequences\n",
    "from tensorflow.keras.utils import to_categorical\n",
    "from keras.layers import Input, Dense, Embedding, Flatten, Activation, LeakyReLU,Bidirectional, LSTM, Dropout\n",
    "from keras.models import Sequential\n",
    "from keras.callbacks import EarlyStopping"
   ]
  },
  {
   "cell_type": "code",
   "execution_count": 2,
   "id": "e422a0dd",
   "metadata": {},
   "outputs": [],
   "source": [
    "working_dir = os.getcwd()\n",
    "data_path = os.path.dirname(working_dir) + '/data/'\n",
    "model_path = os.path.dirname(working_dir) + '/models/'"
   ]
  },
  {
   "cell_type": "code",
   "execution_count": 4,
   "id": "749c4c47",
   "metadata": {},
   "outputs": [],
   "source": [
    "LSTM_model_1 = tf.keras.models.load_model(model_path + 'LSTM_1_best_model.h5')"
   ]
  },
  {
   "cell_type": "code",
   "execution_count": 5,
   "id": "9025b9fd",
   "metadata": {},
   "outputs": [
    {
     "name": "stdout",
     "output_type": "stream",
     "text": [
      "Model: \"sequential_2\"\n",
      "_________________________________________________________________\n",
      "Layer (type)                 Output Shape              Param #   \n",
      "=================================================================\n",
      "embedding_2 (Embedding)      (None, 200, 32)           320000    \n",
      "_________________________________________________________________\n",
      "bidirectional_5 (Bidirection (None, 200, 64)           16640     \n",
      "_________________________________________________________________\n",
      "dense_4 (Dense)              (None, 200, 32)           2080      \n",
      "_________________________________________________________________\n",
      "dropout_5 (Dropout)          (None, 200, 32)           0         \n",
      "_________________________________________________________________\n",
      "bidirectional_6 (Bidirection (None, 64)                16640     \n",
      "_________________________________________________________________\n",
      "dense_5 (Dense)              (None, 32)                2080      \n",
      "_________________________________________________________________\n",
      "dropout_6 (Dropout)          (None, 32)                0         \n",
      "_________________________________________________________________\n",
      "dense_6 (Dense)              (None, 32)                1056      \n",
      "_________________________________________________________________\n",
      "dropout_7 (Dropout)          (None, 32)                0         \n",
      "_________________________________________________________________\n",
      "dense_7 (Dense)              (None, 6)                 198       \n",
      "=================================================================\n",
      "Total params: 358,694\n",
      "Trainable params: 358,694\n",
      "Non-trainable params: 0\n",
      "_________________________________________________________________\n"
     ]
    }
   ],
   "source": [
    "LSTM_model_1.summary()"
   ]
  },
  {
   "cell_type": "code",
   "execution_count": 7,
   "id": "998c499f",
   "metadata": {},
   "outputs": [],
   "source": [
    "with open(model_path + 'LSTM_model_1_history.h5', 'rb') as f:\n",
    "    LSTM_model_1_history = pickle.load(f)"
   ]
  },
  {
   "cell_type": "code",
   "execution_count": 8,
   "id": "6499bf41",
   "metadata": {},
   "outputs": [
    {
     "data": {
      "text/plain": [
       "{'loss': [2.54317569732666,\n",
       "  1.9424171447753906,\n",
       "  1.8014490604400635,\n",
       "  1.6779736280441284,\n",
       "  1.5502148866653442,\n",
       "  1.4719760417938232,\n",
       "  1.3966243267059326,\n",
       "  1.3475319147109985,\n",
       "  1.3013874292373657,\n",
       "  1.2556568384170532],\n",
       " 'Accuracy': [0.4771178662776947,\n",
       "  0.5225293636322021,\n",
       "  0.5432764887809753,\n",
       "  0.585114061832428,\n",
       "  0.6181237697601318,\n",
       "  0.6318437457084656,\n",
       "  0.63876873254776,\n",
       "  0.6472439169883728,\n",
       "  0.6527115106582642,\n",
       "  0.6599242687225342],\n",
       " 'auc': [0.8316819667816162,\n",
       "  0.8739732503890991,\n",
       "  0.8851447105407715,\n",
       "  0.8950006365776062,\n",
       "  0.9070452451705933,\n",
       "  0.9131863713264465,\n",
       "  0.9178051352500916,\n",
       "  0.921569287776947,\n",
       "  0.9237924218177795,\n",
       "  0.9271494746208191],\n",
       " 'precision': [0.6503303050994873,\n",
       "  0.6718587279319763,\n",
       "  0.6728550791740417,\n",
       "  0.6808207631111145,\n",
       "  0.6841728687286377,\n",
       "  0.6896467208862305,\n",
       "  0.6935932636260986,\n",
       "  0.695738673210144,\n",
       "  0.6976256370544434,\n",
       "  0.7030634880065918],\n",
       " 'recall': [0.42398306727409363,\n",
       "  0.48488759994506836,\n",
       "  0.4959062933921814,\n",
       "  0.5152702331542969,\n",
       "  0.5504706501960754,\n",
       "  0.575552761554718,\n",
       "  0.5851883292198181,\n",
       "  0.6006256341934204,\n",
       "  0.6082190275192261,\n",
       "  0.6214377284049988],\n",
       " 'val_loss': [1.2189332246780396,\n",
       "  1.190185308456421,\n",
       "  1.145487904548645,\n",
       "  1.0276700258255005,\n",
       "  1.1367239952087402,\n",
       "  1.0142059326171875,\n",
       "  0.9452372193336487,\n",
       "  1.027358889579773,\n",
       "  1.010134220123291,\n",
       "  0.9930814504623413],\n",
       " 'val_Accuracy': [0.5135526657104492,\n",
       "  0.534197211265564,\n",
       "  0.5829125046730042,\n",
       "  0.618966281414032,\n",
       "  0.5946829319000244,\n",
       "  0.5891504287719727,\n",
       "  0.6493019461631775,\n",
       "  0.6314792633056641,\n",
       "  0.6363062262535095,\n",
       "  0.6197088956832886],\n",
       " 'val_auc': [0.8715444803237915,\n",
       "  0.8736713528633118,\n",
       "  0.881697416305542,\n",
       "  0.9055371880531311,\n",
       "  0.8947619795799255,\n",
       "  0.90997713804245,\n",
       "  0.9224486351013184,\n",
       "  0.911842942237854,\n",
       "  0.919468343257904,\n",
       "  0.9199725389480591],\n",
       " 'val_precision': [0.7000322341918945,\n",
       "  0.6931174993515015,\n",
       "  0.6641683578491211,\n",
       "  0.677278995513916,\n",
       "  0.6528315544128418,\n",
       "  0.6367866396903992,\n",
       "  0.6910174489021301,\n",
       "  0.6851256489753723,\n",
       "  0.669380784034729,\n",
       "  0.6562215685844421],\n",
       " 'val_recall': [0.48403385281562805,\n",
       "  0.48648446798324585,\n",
       "  0.4441927671432495,\n",
       "  0.5086885690689087,\n",
       "  0.5384672284126282,\n",
       "  0.5386157631874084,\n",
       "  0.6027030944824219,\n",
       "  0.5852517485618591,\n",
       "  0.6105005145072937,\n",
       "  0.5894103646278381]}"
      ]
     },
     "metadata": {},
     "output_type": "display_data"
    }
   ],
   "source": [
    "display(LSTM_model_1_history)"
   ]
  },
  {
   "cell_type": "code",
   "execution_count": null,
   "id": "294a286e",
   "metadata": {},
   "outputs": [],
   "source": []
  }
 ],
 "metadata": {
  "kernelspec": {
   "display_name": "Python [conda env:sf_building_complaints] *",
   "language": "python",
   "name": "conda-env-sf_building_complaints-py"
  },
  "language_info": {
   "codemirror_mode": {
    "name": "ipython",
    "version": 3
   },
   "file_extension": ".py",
   "mimetype": "text/x-python",
   "name": "python",
   "nbconvert_exporter": "python",
   "pygments_lexer": "ipython3",
   "version": "3.9.5"
  },
  "toc": {
   "base_numbering": 1,
   "nav_menu": {},
   "number_sections": false,
   "sideBar": true,
   "skip_h1_title": false,
   "title_cell": "Table of Contents",
   "title_sidebar": "Contents",
   "toc_cell": true,
   "toc_position": {},
   "toc_section_display": true,
   "toc_window_display": true
  }
 },
 "nbformat": 4,
 "nbformat_minor": 5
}
