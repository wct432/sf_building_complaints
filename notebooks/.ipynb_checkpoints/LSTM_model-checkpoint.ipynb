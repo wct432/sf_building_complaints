{
 "cells": [
  {
   "cell_type": "markdown",
   "id": "2cf3da79",
   "metadata": {
    "toc": true
   },
   "source": [
    "<h1>Table of Contents<span class=\"tocSkip\"></span></h1>\n",
    "<div class=\"toc\"><ul class=\"toc-item\"></ul></div>"
   ]
  },
  {
   "cell_type": "code",
   "execution_count": 1,
   "id": "6b4eea1c",
   "metadata": {},
   "outputs": [],
   "source": [
    "import sys\n",
    "sys.path.append('../')\n",
    "import datetime as dt\n",
    "from imblearn.over_sampling import RandomOverSampler\n",
    "from imblearn.under_sampling import RandomUnderSampler\n",
    "from imblearn.pipeline import Pipeline\n",
    "from math import trunc\n",
    "import matplotlib.pyplot as plt\n",
    "import numpy as np\n",
    "from numpy import array\n",
    "import os\n",
    "import pandas as pd\n",
    "import pickle\n",
    "from tqdm.auto import tqdm\n",
    "from src.pipeline_helpers import get_proportions\n",
    "from src.clean_data import normalize_text\n",
    "from sklearn.utils import class_weight\n",
    "from sklearn.model_selection import train_test_split\n",
    "from sklearn import metrics\n",
    "import tensorflow as tf\n",
    "from tensorflow.keras.preprocessing.text import Tokenizer\n",
    "from tensorflow.keras.preprocessing.sequence import pad_sequences\n",
    "from tensorflow.keras.utils import to_categorical\n",
    "import tensorflow_addons as tfa\n",
    "from keras.layers import Input, Dense, Embedding, Flatten, Activation,Bidirectional, LSTM, Dropout, SpatialDropout1D\n",
    "from keras.models import Sequential\n",
    "from keras.callbacks import ModelCheckpoint, EarlyStopping, ReduceLROnPlateau, TensorBoard"
   ]
  },
  {
   "cell_type": "code",
   "execution_count": 2,
   "id": "de1a32e2",
   "metadata": {},
   "outputs": [],
   "source": [
    "PROJECT_PATH = os.path.dirname(os.getcwd())\n",
    "DATA_PATH = PROJECT_PATH + '/data/'\n",
    "MODEL_PATH = PROJECT_PATH + '/models/'\n",
    "LEMMATIZED_PATH = DATA_PATH + 'lemmatized/'\n",
    "STEMMED_PATH = DATA_PATH + 'stemmed/'\n",
    "MODEL_PATH = os.path.dirname(PROJECT_PATH) + '/models/'"
   ]
  },
  {
   "cell_type": "code",
   "execution_count": 3,
   "id": "a5183a67",
   "metadata": {},
   "outputs": [],
   "source": [
    "X = np.load(LEMMATIZED_PATH + 'X_lemmatized_prepared.npy')\n",
    "y = np.load(LEMMATIZED_PATH + 'y_lemmatized_prepared.npy')"
   ]
  },
  {
   "cell_type": "code",
   "execution_count": 4,
   "id": "19826456",
   "metadata": {},
   "outputs": [],
   "source": [
    "#loading the lemmatized class weghts, we will pass these to Keras class weight param\n",
    "with open(LEMMATIZED_PATH + 'lemmatized_class_weights.pickle', 'rb') as f:\n",
    "    lemmatized_class_weights = pickle.load(f)"
   ]
  },
  {
   "cell_type": "code",
   "execution_count": 5,
   "id": "3d5d2764",
   "metadata": {},
   "outputs": [],
   "source": [
    "#loading class names\n",
    "with open(LEMMATIZED_PATH + 'class_names.pickle', 'rb') as f:\n",
    "    class_names = pickle.load(f)"
   ]
  },
  {
   "cell_type": "code",
   "execution_count": 6,
   "id": "5b58d99e",
   "metadata": {},
   "outputs": [
    {
     "name": "stdout",
     "output_type": "stream",
     "text": [
      "{0: 0.522652455917343, 1: 29.47702205882353, 2: 5.891072740631889, 3: 0.39201329894512965, 4: 3.011361502347418}\n"
     ]
    }
   ],
   "source": [
    "print(lemmatized_class_weights)"
   ]
  },
  {
   "cell_type": "code",
   "execution_count": 7,
   "id": "0891ad8a",
   "metadata": {},
   "outputs": [
    {
     "name": "stdout",
     "output_type": "stream",
     "text": [
      "[61362  1088  5444 81811 10650]\n"
     ]
    }
   ],
   "source": [
    "#view the number in each class\n",
    "print(y.sum(axis=0))"
   ]
  },
  {
   "cell_type": "code",
   "execution_count": 8,
   "id": "757cceea",
   "metadata": {},
   "outputs": [
    {
     "data": {
      "text/plain": [
       "(160355, 200)"
      ]
     },
     "execution_count": 8,
     "metadata": {},
     "output_type": "execute_result"
    }
   ],
   "source": [
    "X.shape"
   ]
  },
  {
   "cell_type": "code",
   "execution_count": 9,
   "id": "ca25fc2e",
   "metadata": {},
   "outputs": [
    {
     "data": {
      "text/plain": [
       "(160355, 5)"
      ]
     },
     "execution_count": 9,
     "metadata": {},
     "output_type": "execute_result"
    }
   ],
   "source": [
    "y.shape"
   ]
  },
  {
   "cell_type": "code",
   "execution_count": 10,
   "id": "f4ad927f",
   "metadata": {
    "scrolled": true
   },
   "outputs": [
    {
     "data": {
      "text/plain": [
       "array([[0, 0, 0, 1, 0],\n",
       "       [1, 0, 0, 0, 0],\n",
       "       [0, 0, 0, 1, 0],\n",
       "       ...,\n",
       "       [0, 0, 0, 1, 0],\n",
       "       [0, 0, 0, 1, 0],\n",
       "       [0, 0, 0, 1, 0]])"
      ]
     },
     "execution_count": 10,
     "metadata": {},
     "output_type": "execute_result"
    }
   ],
   "source": [
    "y"
   ]
  },
  {
   "cell_type": "code",
   "execution_count": 11,
   "id": "6cb77630",
   "metadata": {},
   "outputs": [
    {
     "name": "stdout",
     "output_type": "stream",
     "text": [
      "[[ 86 151   9 ...   0   0   0]\n",
      " [ 11   5   6 ...   0   0   0]\n",
      " [ 11   5   6 ...   0   0   0]\n",
      " ...\n",
      " [ 39  55  76 ...   0   0   0]\n",
      " [ 86 173  22 ...   0   0   0]\n",
      " [ 39 436  46 ...   0   0   0]]\n"
     ]
    }
   ],
   "source": [
    "print(X)"
   ]
  },
  {
   "cell_type": "code",
   "execution_count": 12,
   "id": "4df520a3",
   "metadata": {},
   "outputs": [],
   "source": [
    "X_train, X_test, y_train, y_test = train_test_split(X, y, test_size = 0.2, random_state = 42, stratify = y)\n",
    "X_test, X_val, y_test, y_val = train_test_split(X_test, y_test, test_size=.5, random_state = 42, stratify = y_test)"
   ]
  },
  {
   "cell_type": "markdown",
   "id": "0cb0bcb7",
   "metadata": {},
   "source": [
    "Now we will check the proportions of each class in the training set and test set to ensure that Sklearn's stratify worked as expected. I defined a function in pipeline_helpers to calculate the proportion of each class. "
   ]
  },
  {
   "cell_type": "code",
   "execution_count": 15,
   "id": "ffcef235",
   "metadata": {},
   "outputs": [
    {
     "name": "stdout",
     "output_type": "stream",
     "text": [
      "y_train proportions: \n",
      " {0: 0.38266658351781985, 1: 0.006789623023915687, 2: 0.03395591032396869, 3: 0.5101961273424589, 4: 0.0664229366093979}\n",
      "\n",
      "y_test proportions: \n",
      " {0: 0.38272528843155595, 1: 0.006859993763642033, 2: 0.0339881509198628, 3: 0.5101964452759589, 4: 0.06647957592765824}\n",
      "\n",
      "y_val proportions: \n",
      " {0: 0.38270142180094785, 1: 0.006859565976552756, 2: 0.034048391119980044, 3: 0.5101646295834372, 4: 0.0664754302818658}\n"
     ]
    }
   ],
   "source": [
    "y_train_proportions = get_proportions(y_train)\n",
    "y_test_proportions = get_proportions(y_test)\n",
    "y_val_proportions = get_proportions(y_val)\n",
    "\n",
    "print(f\"y_train proportions: \\n {y_train_proportions}\\n\")\n",
    "print(f\"y_test proportions: \\n {y_test_proportions}\\n\")\n",
    "print(f\"y_val proportions: \\n {y_val_proportions}\")"
   ]
  },
  {
   "cell_type": "code",
   "execution_count": 16,
   "id": "05597a05",
   "metadata": {},
   "outputs": [
    {
     "name": "stdout",
     "output_type": "stream",
     "text": [
      "[49090   870  4355 65449  8520]\n"
     ]
    }
   ],
   "source": [
    "#view the number in each class\n",
    "print(y_train.sum(axis=0))"
   ]
  },
  {
   "cell_type": "code",
   "execution_count": 17,
   "id": "4bcc725c",
   "metadata": {},
   "outputs": [
    {
     "data": {
      "text/plain": [
       "(128284, 200)"
      ]
     },
     "execution_count": 17,
     "metadata": {},
     "output_type": "execute_result"
    }
   ],
   "source": [
    "X_train.shape"
   ]
  },
  {
   "cell_type": "code",
   "execution_count": 18,
   "id": "533b0489",
   "metadata": {},
   "outputs": [
    {
     "data": {
      "text/plain": [
       "(128284, 5)"
      ]
     },
     "execution_count": 18,
     "metadata": {},
     "output_type": "execute_result"
    }
   ],
   "source": [
    "y_train.shape"
   ]
  },
  {
   "cell_type": "code",
   "execution_count": 19,
   "id": "1084d082",
   "metadata": {},
   "outputs": [
    {
     "data": {
      "text/plain": [
       "(16036, 5)"
      ]
     },
     "execution_count": 19,
     "metadata": {},
     "output_type": "execute_result"
    }
   ],
   "source": [
    "y_val.shape"
   ]
  },
  {
   "cell_type": "code",
   "execution_count": 20,
   "id": "c0ab60a6",
   "metadata": {},
   "outputs": [],
   "source": [
    "#define model parameters, we will use a large number of epochs as we'll \n",
    "# implement early stopping when our model overfits\n",
    "num_words = 10000\n",
    "num_epochs = 300\n",
    "embed_dims = 32\n",
    "\n",
    "#define metrics to monitor\n",
    "metrics = [\n",
    "    tf.keras.metrics.CategoricalAccuracy(name='accuracy'),\n",
    "    tf.keras.metrics.AUC(name='auc'),\n",
    "]"
   ]
  },
  {
   "cell_type": "code",
   "execution_count": 21,
   "id": "2cfbf04b",
   "metadata": {},
   "outputs": [],
   "source": [
    "#define callbacks for our model\n",
    "checkpoint = ModelCheckpoint(filepath=MODEL_PATH+f'LSTM/model_{dt.datetime.now().strftime(\"%Y-%m-%d--%H:%M:%S\")}_best.h5', \n",
    "                             monitor='val_loss',\n",
    "                             verbose=1, \n",
    "                             save_best_only=True,\n",
    "                             mode='min')\n",
    "early_stopping = EarlyStopping(monitor='val_loss', patience=5)\n",
    "\n",
    "tqdm_callback = tfa.callbacks.TQDMProgressBar()\n",
    "\n",
    "callbacks = [checkpoint,\n",
    "             early_stopping,\n",
    "             tqdm_callback]"
   ]
  },
  {
   "cell_type": "code",
   "execution_count": 22,
   "id": "e25bab89",
   "metadata": {},
   "outputs": [
    {
     "name": "stdout",
     "output_type": "stream",
     "text": [
      "Model: \"sequential\"\n",
      "_________________________________________________________________\n",
      "Layer (type)                 Output Shape              Param #   \n",
      "=================================================================\n",
      "embedding (Embedding)        (None, 200, 32)           320000    \n",
      "_________________________________________________________________\n",
      "spatial_dropout1d (SpatialDr (None, 200, 32)           0         \n",
      "_________________________________________________________________\n",
      "lstm (LSTM)                  (None, 100)               53200     \n",
      "_________________________________________________________________\n",
      "dense (Dense)                (None, 5)                 505       \n",
      "=================================================================\n",
      "Total params: 373,705\n",
      "Trainable params: 373,705\n",
      "Non-trainable params: 0\n",
      "_________________________________________________________________\n"
     ]
    }
   ],
   "source": [
    "#build our model\n",
    "model = Sequential()\n",
    "model.add(Embedding(num_words, embed_dims, \n",
    "                    input_length=X_train.shape[1], mask_zero=True))\n",
    "model.add(SpatialDropout1D(0.2))\n",
    "model.add(LSTM(100, dropout=0.2, recurrent_dropout=0.2))\n",
    "model.add(Dense(y_train.shape[1], activation='softmax'))\n",
    "\n",
    "model.summary()"
   ]
  },
  {
   "cell_type": "code",
   "execution_count": 23,
   "id": "e079c622",
   "metadata": {},
   "outputs": [],
   "source": [
    "#we will use the Ada optimizer with the default learning rate\n",
    "opt = tf.keras.optimizers.Adam()\n",
    "model.compile(\n",
    "    loss='categorical_crossentropy',\n",
    "    optimizer=opt,\n",
    "    metrics=metrics\n",
    ")"
   ]
  },
  {
   "cell_type": "code",
   "execution_count": 24,
   "id": "dc515df5",
   "metadata": {},
   "outputs": [
    {
     "data": {
      "application/vnd.jupyter.widget-view+json": {
       "model_id": "ddca181cc20241dfbf1d8798578068ea",
       "version_major": 2,
       "version_minor": 0
      },
      "text/plain": [
       "Training:   0%|                                                      0/300 ETA: ?s,  ?epochs/s"
      ]
     },
     "metadata": {},
     "output_type": "display_data"
    },
    {
     "name": "stderr",
     "output_type": "stream",
     "text": [
      "2021-11-04 15:14:30.336772: I tensorflow/compiler/mlir/mlir_graph_optimization_pass.cc:185] None of the MLIR Optimization Passes are enabled (registered 2)\n"
     ]
    },
    {
     "name": "stdout",
     "output_type": "stream",
     "text": [
      "Epoch 1/300\n",
      "Epoch 1/300\n"
     ]
    },
    {
     "data": {
      "application/vnd.jupyter.widget-view+json": {
       "model_id": "e0aa2b47fa224634b504298cf2f29ea6",
       "version_major": 2,
       "version_minor": 0
      },
      "text/plain": [
       "0/4009                                                                              ETA: ?s - "
      ]
     },
     "metadata": {},
     "output_type": "display_data"
    },
    {
     "name": "stdout",
     "output_type": "stream",
     "text": [
      "4009/4009 - 840s - loss: 0.7045 - accuracy: 0.7294 - auc: 0.9177 - val_loss: 0.6251 - val_accuracy: 0.7855 - val_auc: 0.9482\n",
      "\n",
      "Epoch 00001: val_loss improved from inf to 0.62512, saving model to /Users/WillemCole/Desktop/DataScience/sf_building_complaints/models/LSTM/model_2021-11-04--15:14:12_best.h5\n",
      "Epoch 2/300\n",
      "Epoch 2/300\n"
     ]
    },
    {
     "data": {
      "application/vnd.jupyter.widget-view+json": {
       "model_id": "5f058de2f48a44d9b47e2a69c5b9a404",
       "version_major": 2,
       "version_minor": 0
      },
      "text/plain": [
       "0/4009                                                                              ETA: ?s - "
      ]
     },
     "metadata": {},
     "output_type": "display_data"
    },
    {
     "name": "stdout",
     "output_type": "stream",
     "text": [
      "4009/4009 - 845s - loss: 0.4752 - accuracy: 0.7831 - auc: 0.9512 - val_loss: 0.5857 - val_accuracy: 0.7904 - val_auc: 0.9554\n",
      "\n",
      "Epoch 00002: val_loss improved from 0.62512 to 0.58575, saving model to /Users/WillemCole/Desktop/DataScience/sf_building_complaints/models/LSTM/model_2021-11-04--15:14:12_best.h5\n",
      "Epoch 3/300\n",
      "Epoch 3/300\n"
     ]
    },
    {
     "data": {
      "application/vnd.jupyter.widget-view+json": {
       "model_id": "3db04ede03144e269a220f9ef2ceb6fd",
       "version_major": 2,
       "version_minor": 0
      },
      "text/plain": [
       "0/4009                                                                              ETA: ?s - "
      ]
     },
     "metadata": {},
     "output_type": "display_data"
    },
    {
     "name": "stdout",
     "output_type": "stream",
     "text": [
      "4009/4009 - 834s - loss: 0.4397 - accuracy: 0.7951 - auc: 0.9580 - val_loss: 0.5869 - val_accuracy: 0.7886 - val_auc: 0.9547\n",
      "\n",
      "Epoch 00003: val_loss did not improve from 0.58575\n",
      "Epoch 4/300\n",
      "Epoch 4/300\n"
     ]
    },
    {
     "data": {
      "application/vnd.jupyter.widget-view+json": {
       "model_id": "da6123800f8041e9807a915f333ea483",
       "version_major": 2,
       "version_minor": 0
      },
      "text/plain": [
       "0/4009                                                                              ETA: ?s - "
      ]
     },
     "metadata": {},
     "output_type": "display_data"
    },
    {
     "name": "stdout",
     "output_type": "stream",
     "text": [
      "4009/4009 - 829s - loss: 0.4111 - accuracy: 0.8016 - auc: 0.9618 - val_loss: 0.5351 - val_accuracy: 0.8114 - val_auc: 0.9621\n",
      "\n",
      "Epoch 00004: val_loss improved from 0.58575 to 0.53509, saving model to /Users/WillemCole/Desktop/DataScience/sf_building_complaints/models/LSTM/model_2021-11-04--15:14:12_best.h5\n",
      "Epoch 5/300\n",
      "Epoch 5/300\n"
     ]
    },
    {
     "data": {
      "application/vnd.jupyter.widget-view+json": {
       "model_id": "e671a8d019574b65b3851799d23c88b2",
       "version_major": 2,
       "version_minor": 0
      },
      "text/plain": [
       "0/4009                                                                              ETA: ?s - "
      ]
     },
     "metadata": {},
     "output_type": "display_data"
    },
    {
     "name": "stdout",
     "output_type": "stream",
     "text": [
      "4009/4009 - 820s - loss: 0.3901 - accuracy: 0.8094 - auc: 0.9644 - val_loss: 0.5750 - val_accuracy: 0.7904 - val_auc: 0.9569\n",
      "\n",
      "Epoch 00005: val_loss did not improve from 0.53509\n",
      "Epoch 6/300\n",
      "Epoch 6/300\n"
     ]
    },
    {
     "data": {
      "application/vnd.jupyter.widget-view+json": {
       "model_id": "19e9bb3d66744f28841a3b8234a53404",
       "version_major": 2,
       "version_minor": 0
      },
      "text/plain": [
       "0/4009                                                                              ETA: ?s - "
      ]
     },
     "metadata": {},
     "output_type": "display_data"
    },
    {
     "name": "stdout",
     "output_type": "stream",
     "text": [
      "4009/4009 - 824s - loss: 0.3808 - accuracy: 0.8132 - auc: 0.9660 - val_loss: 0.5176 - val_accuracy: 0.8082 - val_auc: 0.9648\n",
      "\n",
      "Epoch 00006: val_loss improved from 0.53509 to 0.51764, saving model to /Users/WillemCole/Desktop/DataScience/sf_building_complaints/models/LSTM/model_2021-11-04--15:14:12_best.h5\n",
      "Epoch 7/300\n",
      "Epoch 7/300\n"
     ]
    },
    {
     "data": {
      "application/vnd.jupyter.widget-view+json": {
       "model_id": "90dd41b052494a81bf9a07847bf0dce9",
       "version_major": 2,
       "version_minor": 0
      },
      "text/plain": [
       "0/4009                                                                              ETA: ?s - "
      ]
     },
     "metadata": {},
     "output_type": "display_data"
    },
    {
     "name": "stdout",
     "output_type": "stream",
     "text": [
      "4009/4009 - 848s - loss: 0.3655 - accuracy: 0.8190 - auc: 0.9681 - val_loss: 0.5196 - val_accuracy: 0.8120 - val_auc: 0.9654\n",
      "\n",
      "Epoch 00007: val_loss did not improve from 0.51764\n",
      "Epoch 8/300\n",
      "Epoch 8/300\n"
     ]
    },
    {
     "data": {
      "application/vnd.jupyter.widget-view+json": {
       "model_id": "d886d3e80b554d149739b48dd8dbbcfb",
       "version_major": 2,
       "version_minor": 0
      },
      "text/plain": [
       "0/4009                                                                              ETA: ?s - "
      ]
     },
     "metadata": {},
     "output_type": "display_data"
    },
    {
     "name": "stdout",
     "output_type": "stream",
     "text": [
      "4009/4009 - 937s - loss: 0.3535 - accuracy: 0.8209 - auc: 0.9688 - val_loss: 0.5243 - val_accuracy: 0.8085 - val_auc: 0.9642\n",
      "\n",
      "Epoch 00008: val_loss did not improve from 0.51764\n",
      "Epoch 9/300\n",
      "Epoch 9/300\n"
     ]
    },
    {
     "data": {
      "application/vnd.jupyter.widget-view+json": {
       "model_id": "258e303c05fc43e28a3175d671b759ee",
       "version_major": 2,
       "version_minor": 0
      },
      "text/plain": [
       "0/4009                                                                              ETA: ?s - "
      ]
     },
     "metadata": {},
     "output_type": "display_data"
    },
    {
     "name": "stdout",
     "output_type": "stream",
     "text": [
      "4009/4009 - 957s - loss: 0.3447 - accuracy: 0.8245 - auc: 0.9701 - val_loss: 0.5131 - val_accuracy: 0.8106 - val_auc: 0.9659\n",
      "\n",
      "Epoch 00009: val_loss improved from 0.51764 to 0.51310, saving model to /Users/WillemCole/Desktop/DataScience/sf_building_complaints/models/LSTM/model_2021-11-04--15:14:12_best.h5\n",
      "Epoch 10/300\n",
      "Epoch 10/300\n"
     ]
    },
    {
     "data": {
      "application/vnd.jupyter.widget-view+json": {
       "model_id": "4fe0537f9a5c4295895ae82634fd8536",
       "version_major": 2,
       "version_minor": 0
      },
      "text/plain": [
       "0/4009                                                                              ETA: ?s - "
      ]
     },
     "metadata": {},
     "output_type": "display_data"
    },
    {
     "name": "stdout",
     "output_type": "stream",
     "text": [
      "4009/4009 - 971s - loss: 0.3396 - accuracy: 0.8275 - auc: 0.9710 - val_loss: 0.5292 - val_accuracy: 0.8071 - val_auc: 0.9641\n",
      "\n",
      "Epoch 00010: val_loss did not improve from 0.51310\n",
      "Epoch 11/300\n",
      "Epoch 11/300\n"
     ]
    },
    {
     "data": {
      "application/vnd.jupyter.widget-view+json": {
       "model_id": "4712462b214d4c0280a20be091450265",
       "version_major": 2,
       "version_minor": 0
      },
      "text/plain": [
       "0/4009                                                                              ETA: ?s - "
      ]
     },
     "metadata": {},
     "output_type": "display_data"
    },
    {
     "name": "stdout",
     "output_type": "stream",
     "text": [
      "4009/4009 - 965s - loss: 0.3298 - accuracy: 0.8298 - auc: 0.9722 - val_loss: 0.5594 - val_accuracy: 0.7938 - val_auc: 0.9603\n",
      "\n",
      "Epoch 00011: val_loss did not improve from 0.51310\n",
      "Epoch 12/300\n",
      "Epoch 12/300\n"
     ]
    },
    {
     "data": {
      "application/vnd.jupyter.widget-view+json": {
       "model_id": "e641b2edca7b411790749a145b04a9e0",
       "version_major": 2,
       "version_minor": 0
      },
      "text/plain": [
       "0/4009                                                                              ETA: ?s - "
      ]
     },
     "metadata": {},
     "output_type": "display_data"
    },
    {
     "name": "stdout",
     "output_type": "stream",
     "text": [
      "4009/4009 - 1062s - loss: 0.3196 - accuracy: 0.8319 - auc: 0.9727 - val_loss: 0.5308 - val_accuracy: 0.8083 - val_auc: 0.9636\n",
      "\n",
      "Epoch 00012: val_loss did not improve from 0.51310\n",
      "Epoch 13/300\n",
      "Epoch 13/300\n"
     ]
    },
    {
     "data": {
      "application/vnd.jupyter.widget-view+json": {
       "model_id": "86458f2a53b44095a297ff45c568f911",
       "version_major": 2,
       "version_minor": 0
      },
      "text/plain": [
       "0/4009                                                                              ETA: ?s - "
      ]
     },
     "metadata": {},
     "output_type": "display_data"
    },
    {
     "name": "stdout",
     "output_type": "stream",
     "text": [
      "4009/4009 - 1035s - loss: 0.3133 - accuracy: 0.8355 - auc: 0.9735 - val_loss: 0.5496 - val_accuracy: 0.8033 - val_auc: 0.9616\n",
      "\n",
      "Epoch 00013: val_loss did not improve from 0.51310\n",
      "Epoch 14/300\n",
      "Epoch 14/300\n"
     ]
    },
    {
     "data": {
      "application/vnd.jupyter.widget-view+json": {
       "model_id": "7d065c27922c4559938f1a9967c4484d",
       "version_major": 2,
       "version_minor": 0
      },
      "text/plain": [
       "0/4009                                                                              ETA: ?s - "
      ]
     },
     "metadata": {},
     "output_type": "display_data"
    },
    {
     "name": "stdout",
     "output_type": "stream",
     "text": [
      "4009/4009 - 817s - loss: 0.3092 - accuracy: 0.8359 - auc: 0.9740 - val_loss: 0.5461 - val_accuracy: 0.8014 - val_auc: 0.9623\n",
      "\n",
      "Epoch 00014: val_loss did not improve from 0.51310\n"
     ]
    }
   ],
   "source": [
    "#fit model\n",
    "history = model.fit(X_train, y_train, epochs=num_epochs, \n",
    "                    validation_data=(X_val, y_val), verbose=2,\n",
    "                    class_weight=lemmatized_class_weights,\n",
    "                    callbacks=callbacks)\n"
   ]
  },
  {
   "cell_type": "code",
   "execution_count": 25,
   "id": "cdc4022c",
   "metadata": {},
   "outputs": [],
   "source": [
    "#save model history\n",
    "with open(MODEL_PATH + f'/LSTM/model_history.pickle', 'wb') as f:\n",
    "        pickle.dump(history.history, f)"
   ]
  },
  {
   "cell_type": "code",
   "execution_count": 47,
   "id": "f92a2369",
   "metadata": {},
   "outputs": [],
   "source": [
    "# Evaluate the model on the test data\n",
    "y_pred = model.predict(X_test)"
   ]
  },
  {
   "cell_type": "code",
   "execution_count": 48,
   "id": "d166c509",
   "metadata": {},
   "outputs": [
    {
     "name": "stdout",
     "output_type": "stream",
     "text": [
      "Weighted AUC: 0.941873462453858\n",
      "Accuracy: 0.7996881821016526\n",
      "Class Names: ['Building Inspection Division' 'Disabled Access Division'\n",
      " 'Electrical Inspection Division' 'Housing Inspection Services'\n",
      " 'Plumbing Inspection Division']\n",
      "Confusion Matrix: \n",
      " [[4983   96  242  505  310]\n",
      " [   7   90    2    9    1]\n",
      " [  43    3  451   25   22]\n",
      " [ 769  110  351 6404  547]\n",
      " [  71    8   40   51  895]]\n",
      "Classification Report: \n",
      "               precision    recall  f1-score   support\n",
      "\n",
      "           0       0.85      0.81      0.83      6136\n",
      "           1       0.29      0.83      0.43       109\n",
      "           2       0.42      0.83      0.55       544\n",
      "           3       0.92      0.78      0.84      8181\n",
      "           4       0.50      0.84      0.63      1065\n",
      "\n",
      "    accuracy                           0.80     16035\n",
      "   macro avg       0.60      0.82      0.66     16035\n",
      "weighted avg       0.84      0.80      0.81     16035\n",
      "\n"
     ]
    }
   ],
   "source": [
    "weighted_auc = metrics.roc_auc_score(y_test, y_pred, \n",
    "                            average='weighted',multi_class='ovr')\n",
    "print(f'Weighted AUC: {weighted_auc}')\n",
    "y_true = np.argmax(y_test, axis=1)\n",
    "y_pred = np.argmax(y_pred, axis=1) \n",
    "\n",
    "accuracy = metrics.accuracy_score(y_true, y_pred, normalize=True)\n",
    "print(f'Accuracy: {accuracy}')\n",
    "\n",
    "print(f'Class Names: {class_names}')\n",
    "\n",
    "#create confusion matrix of our test predictions\n",
    "confusion_matrix = metrics.confusion_matrix(y_true, y_pred)\n",
    "print(f'Confusion Matrix: \\n {confusion_matrix}')\n",
    "classification_report = metrics.classification_report(y_true, y_pred)\n",
    "#create classification report\n",
    "print(f'Classification Report: \\n {classification_report}')"
   ]
  },
  {
   "cell_type": "markdown",
   "id": "a8c31901",
   "metadata": {},
   "source": [
    "We can see that our model is having a lot of trouble recognizing the under-represented classes still, with especially low precision in the Disabled Access Division, this is a common problem for underbalanced classes and represents too many false positives for the class. The model is frequently mistaking it for the first class, and most likely their isn't enough data in the under-represented class for the model to learn the difference."
   ]
  },
  {
   "cell_type": "code",
   "execution_count": 49,
   "id": "4d42888e",
   "metadata": {},
   "outputs": [
    {
     "data": {
      "image/png": "[encoded data removed]",
      "text/plain": [
       "<Figure size 432x288 with 1 Axes>"
      ]
     },
     "metadata": {
      "needs_background": "light"
     },
     "output_type": "display_data"
    }
   ],
   "source": [
    "plt.title('Loss')\n",
    "plt.plot(history.history['loss'], label='train')\n",
    "plt.plot(history.history['val_loss'], label='test')\n",
    "plt.legend()\n",
    "plt.show();"
   ]
  },
  {
   "cell_type": "code",
   "execution_count": 50,
   "id": "dbee2343",
   "metadata": {},
   "outputs": [
    {
     "data": {
      "image/png": "[encoded data removed]",
      "text/plain": [
       "<Figure size 432x288 with 1 Axes>"
      ]
     },
     "metadata": {
      "needs_background": "light"
     },
     "output_type": "display_data"
    }
   ],
   "source": [
    "plt.title('Accuracy')\n",
    "plt.plot(history.history['accuracy'], label='train')\n",
    "plt.plot(history.history['val_accuracy'], label='test')\n",
    "plt.legend()\n",
    "plt.show();"
   ]
  },
  {
   "cell_type": "code",
   "execution_count": 51,
   "id": "ea88ca32",
   "metadata": {},
   "outputs": [
    {
     "data": {
      "image/png": "[encoded data removed]",
      "text/plain": [
       "<Figure size 432x288 with 1 Axes>"
      ]
     },
     "metadata": {
      "needs_background": "light"
     },
     "output_type": "display_data"
    }
   ],
   "source": [
    "plt.title('Auc')\n",
    "plt.plot(history.history['auc'], label='train')\n",
    "plt.plot(history.history['val_auc'], label='test')\n",
    "plt.legend()\n",
    "plt.show();"
   ]
  },
  {
   "cell_type": "markdown",
   "id": "a64dbfb3",
   "metadata": {},
   "source": [
    "The curves here seem to also show that our model is having trouble learning the data, and is having trouble distinguishing between classes. I explored using more sophisticated architectures but the model didn't perform any better on the validation data, ending up at the same AUC. "
   ]
  },
  {
   "cell_type": "markdown",
   "id": "8ed66ff9",
   "metadata": {},
   "source": [
    "Next we will explore using transfer learning using a pretrained BERT model on the data with the hope that the BERT model will be able to distinguish between classes better. "
   ]
  }
 ],
 "metadata": {
  "kernelspec": {
   "display_name": "Python [conda env:sf_building_complaints] *",
   "language": "python",
   "name": "conda-env-sf_building_complaints-py"
  },
  "language_info": {
   "codemirror_mode": {
    "name": "ipython",
    "version": 3
   },
   "file_extension": ".py",
   "mimetype": "text/x-python",
   "name": "python",
   "nbconvert_exporter": "python",
   "pygments_lexer": "ipython3",
   "version": "3.9.5"
  },
  "toc": {
   "base_numbering": 1,
   "nav_menu": {},
   "number_sections": false,
   "sideBar": true,
   "skip_h1_title": false,
   "title_cell": "Table of Contents",
   "title_sidebar": "Contents",
   "toc_cell": true,
   "toc_position": {
    "height": "calc(100% - 180px)",
    "left": "10px",
    "top": "150px",
    "width": "512px"
   },
   "toc_section_display": true,
   "toc_window_display": true
  }
 },
 "nbformat": 4,
 "nbformat_minor": 5
}
