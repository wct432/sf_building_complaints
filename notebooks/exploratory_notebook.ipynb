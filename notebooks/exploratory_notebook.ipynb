{
 "cells": [
  {
   "cell_type": "markdown",
   "id": "0a9c3a24",
   "metadata": {
    "toc": true
   },
   "source": [
    "<h1>Table of Contents<span class=\"tocSkip\"></span></h1>\n",
    "<div class=\"toc\"><ul class=\"toc-item\"><li><span><a href=\"#-Data-Prep\" data-toc-modified-id=\"-Data-Prep-1\"> Data Prep</a></span></li></ul></div>"
   ]
  },
  {
   "cell_type": "code",
   "execution_count": 8,
   "id": "2aff7ab4",
   "metadata": {},
   "outputs": [],
   "source": [
    "import os\n",
    "import numpy as np\n",
    "import pandas as pd\n",
    "import seaborn as sns\n",
    "from nltk.corpus import stopwords\n",
    "import matplotlib.pyplot as plt\n",
    "from wordcloud import WordCloud"
   ]
  },
  {
   "cell_type": "code",
   "execution_count": 2,
   "id": "cbaa8cbb",
   "metadata": {},
   "outputs": [
    {
     "name": "stdout",
     "output_type": "stream",
     "text": [
      "/Users/WillemCole/Desktop/Programming/DataScience/Projects/sf_building_complaints/data/\n"
     ]
    }
   ],
   "source": [
    "working_dir = os.getcwd()\n",
    "data_path = os.path.dirname(working_dir) + '/data/'\n",
    "print(data_path)"
   ]
  },
  {
   "cell_type": "code",
   "execution_count": 3,
   "id": "8ee05a86",
   "metadata": {},
   "outputs": [
    {
     "name": "stderr",
     "output_type": "stream",
     "text": [
      "/Users/WillemCole/miniconda3/envs/sf_building_complaints/lib/python3.9/site-packages/IPython/core/interactiveshell.py:3441: DtypeWarning: Columns (0) have mixed types.Specify dtype option on import or set low_memory=False.\n",
      "  exec(code_obj, self.user_global_ns, self.user_ns)\n"
     ]
    }
   ],
   "source": [
    "df = pd.read_csv(data_path + 'complaints.csv')"
   ]
  },
  {
   "cell_type": "markdown",
   "id": "78017a3b",
   "metadata": {},
   "source": [
    "When we read the csv file we notice a DtypeWarning about mixed types in our complaint_number column which should be the index. We will fix this shortly."
   ]
  },
  {
   "cell_type": "code",
   "execution_count": 4,
   "id": "3b659b81",
   "metadata": {},
   "outputs": [],
   "source": [
    "pd.set_option('display.max_rows', 500)\n",
    "pd.set_option('display.max_columns', 500)\n",
    "pd.set_option('display.width', 1000)"
   ]
  },
  {
   "cell_type": "code",
   "execution_count": 5,
   "id": "e533e234",
   "metadata": {},
   "outputs": [
    {
     "data": {
      "text/html": [
       "<div>\n",
       "<style scoped>\n",
       "    .dataframe tbody tr th:only-of-type {\n",
       "        vertical-align: middle;\n",
       "    }\n",
       "\n",
       "    .dataframe tbody tr th {\n",
       "        vertical-align: top;\n",
       "    }\n",
       "\n",
       "    .dataframe thead th {\n",
       "        text-align: right;\n",
       "    }\n",
       "</style>\n",
       "<table border=\"1\" class=\"dataframe\">\n",
       "  <thead>\n",
       "    <tr style=\"text-align: right;\">\n",
       "      <th></th>\n",
       "      <th>complaint_number</th>\n",
       "      <th>date_filed</th>\n",
       "      <th>date_abated</th>\n",
       "      <th>block</th>\n",
       "      <th>lot</th>\n",
       "      <th>street_number</th>\n",
       "      <th>street_name</th>\n",
       "      <th>street_suffix</th>\n",
       "      <th>unit</th>\n",
       "      <th>zip_code</th>\n",
       "      <th>complaint_description</th>\n",
       "      <th>status</th>\n",
       "      <th>receiving_division</th>\n",
       "      <th>assigned_division</th>\n",
       "      <th>last_inspection_date</th>\n",
       "      <th>date_1st_nov_issued</th>\n",
       "      <th>nov_type</th>\n",
       "      <th>date_2nd_nov_issued</th>\n",
       "      <th>closed_date</th>\n",
       "      <th>director_hearing_date</th>\n",
       "      <th>final_warning_letter_issued</th>\n",
       "      <th>parcel_number</th>\n",
       "      <th>analysis_neighborhood</th>\n",
       "      <th>supervisor_district</th>\n",
       "      <th>point</th>\n",
       "      <th>:@computed_region_6qbp_sg9q</th>\n",
       "      <th>:@computed_region_qgnn_b9vv</th>\n",
       "      <th>:@computed_region_26cr_cadq</th>\n",
       "      <th>:@computed_region_ajp5_b2md</th>\n",
       "      <th>:@computed_region_rxqg_mtj9</th>\n",
       "      <th>:@computed_region_yftq_j783</th>\n",
       "      <th>:@computed_region_jx4q_fizf</th>\n",
       "      <th>:@computed_region_bh8s_q3mv</th>\n",
       "      <th>:@computed_region_jwn9_ihcz</th>\n",
       "      <th>date_referred_to_city_attorney</th>\n",
       "    </tr>\n",
       "  </thead>\n",
       "  <tbody>\n",
       "    <tr>\n",
       "      <th>0</th>\n",
       "      <td>H9504209</td>\n",
       "      <td>1995-12-05T00:00:00.000</td>\n",
       "      <td>1995-12-06T00:00:00.000</td>\n",
       "      <td>0822</td>\n",
       "      <td>029</td>\n",
       "      <td>969</td>\n",
       "      <td>Hayes</td>\n",
       "      <td>St</td>\n",
       "      <td>2.0</td>\n",
       "      <td>94117.0</td>\n",
       "      <td>Illegal unit in back.</td>\n",
       "      <td>Not Active</td>\n",
       "      <td>Housing Inspection Services</td>\n",
       "      <td>Building Inspection Division</td>\n",
       "      <td>NaN</td>\n",
       "      <td>NaN</td>\n",
       "      <td>NaN</td>\n",
       "      <td>NaN</td>\n",
       "      <td>NaN</td>\n",
       "      <td>NaN</td>\n",
       "      <td>NaN</td>\n",
       "      <td>NaN</td>\n",
       "      <td>NaN</td>\n",
       "      <td>NaN</td>\n",
       "      <td>NaN</td>\n",
       "      <td>NaN</td>\n",
       "      <td>NaN</td>\n",
       "      <td>NaN</td>\n",
       "      <td>NaN</td>\n",
       "      <td>NaN</td>\n",
       "      <td>NaN</td>\n",
       "      <td>NaN</td>\n",
       "      <td>NaN</td>\n",
       "      <td>NaN</td>\n",
       "      <td>NaN</td>\n",
       "    </tr>\n",
       "    <tr>\n",
       "      <th>1</th>\n",
       "      <td>H9601135</td>\n",
       "      <td>1996-03-12T00:00:00.000</td>\n",
       "      <td>1996-03-19T00:00:00.000</td>\n",
       "      <td>1364</td>\n",
       "      <td>003</td>\n",
       "      <td>121</td>\n",
       "      <td>4th</td>\n",
       "      <td>Av</td>\n",
       "      <td>NaN</td>\n",
       "      <td>94118.0</td>\n",
       "      <td>Illegal demolition</td>\n",
       "      <td>Not Active</td>\n",
       "      <td>Housing Inspection Services</td>\n",
       "      <td>Building Inspection Division</td>\n",
       "      <td>1996-03-15T00:00:00.000</td>\n",
       "      <td>NaN</td>\n",
       "      <td>NaN</td>\n",
       "      <td>NaN</td>\n",
       "      <td>NaN</td>\n",
       "      <td>NaN</td>\n",
       "      <td>NaN</td>\n",
       "      <td>NaN</td>\n",
       "      <td>NaN</td>\n",
       "      <td>NaN</td>\n",
       "      <td>NaN</td>\n",
       "      <td>NaN</td>\n",
       "      <td>NaN</td>\n",
       "      <td>NaN</td>\n",
       "      <td>NaN</td>\n",
       "      <td>NaN</td>\n",
       "      <td>NaN</td>\n",
       "      <td>NaN</td>\n",
       "      <td>NaN</td>\n",
       "      <td>NaN</td>\n",
       "      <td>NaN</td>\n",
       "    </tr>\n",
       "    <tr>\n",
       "      <th>2</th>\n",
       "      <td>H9403757</td>\n",
       "      <td>1994-10-21T00:00:00.000</td>\n",
       "      <td>1994-10-31T00:00:00.000</td>\n",
       "      <td>6652</td>\n",
       "      <td>023</td>\n",
       "      <td>1731</td>\n",
       "      <td>Noe</td>\n",
       "      <td>St</td>\n",
       "      <td>NaN</td>\n",
       "      <td>94131.0</td>\n",
       "      <td>No heat since 25th of august/.</td>\n",
       "      <td>Not Active</td>\n",
       "      <td>Housing Inspection Services</td>\n",
       "      <td>Housing Inspection Services</td>\n",
       "      <td>NaN</td>\n",
       "      <td>NaN</td>\n",
       "      <td>NaN</td>\n",
       "      <td>NaN</td>\n",
       "      <td>NaN</td>\n",
       "      <td>NaN</td>\n",
       "      <td>NaN</td>\n",
       "      <td>NaN</td>\n",
       "      <td>NaN</td>\n",
       "      <td>NaN</td>\n",
       "      <td>NaN</td>\n",
       "      <td>NaN</td>\n",
       "      <td>NaN</td>\n",
       "      <td>NaN</td>\n",
       "      <td>NaN</td>\n",
       "      <td>NaN</td>\n",
       "      <td>NaN</td>\n",
       "      <td>NaN</td>\n",
       "      <td>NaN</td>\n",
       "      <td>NaN</td>\n",
       "      <td>NaN</td>\n",
       "    </tr>\n",
       "    <tr>\n",
       "      <th>3</th>\n",
       "      <td>199600880</td>\n",
       "      <td>1996-09-03T00:00:00.000</td>\n",
       "      <td>1996-09-03T00:00:00.000</td>\n",
       "      <td>2699</td>\n",
       "      <td>041</td>\n",
       "      <td>315</td>\n",
       "      <td>Douglass</td>\n",
       "      <td>St</td>\n",
       "      <td>NaN</td>\n",
       "      <td>94114.0</td>\n",
       "      <td>Routine inspection</td>\n",
       "      <td>Not Active</td>\n",
       "      <td>Housing Inspection Services</td>\n",
       "      <td>Housing Inspection Services</td>\n",
       "      <td>NaN</td>\n",
       "      <td>NaN</td>\n",
       "      <td>NaN</td>\n",
       "      <td>NaN</td>\n",
       "      <td>NaN</td>\n",
       "      <td>NaN</td>\n",
       "      <td>NaN</td>\n",
       "      <td>NaN</td>\n",
       "      <td>NaN</td>\n",
       "      <td>NaN</td>\n",
       "      <td>NaN</td>\n",
       "      <td>NaN</td>\n",
       "      <td>NaN</td>\n",
       "      <td>NaN</td>\n",
       "      <td>NaN</td>\n",
       "      <td>NaN</td>\n",
       "      <td>NaN</td>\n",
       "      <td>NaN</td>\n",
       "      <td>NaN</td>\n",
       "      <td>NaN</td>\n",
       "      <td>NaN</td>\n",
       "    </tr>\n",
       "    <tr>\n",
       "      <th>4</th>\n",
       "      <td>199602151</td>\n",
       "      <td>1996-11-12T00:00:00.000</td>\n",
       "      <td>1997-01-31T00:00:00.000</td>\n",
       "      <td>0606</td>\n",
       "      <td>017</td>\n",
       "      <td>2400</td>\n",
       "      <td>Steiner</td>\n",
       "      <td>St</td>\n",
       "      <td>NaN</td>\n",
       "      <td>94115.0</td>\n",
       "      <td>Routine inspection</td>\n",
       "      <td>Not Active</td>\n",
       "      <td>Housing Inspection Services</td>\n",
       "      <td>Housing Inspection Services</td>\n",
       "      <td>1996-11-12T00:00:00.000</td>\n",
       "      <td>1996-11-12T00:00:00.000</td>\n",
       "      <td>Routine</td>\n",
       "      <td>NaN</td>\n",
       "      <td>NaN</td>\n",
       "      <td>NaN</td>\n",
       "      <td>NaN</td>\n",
       "      <td>NaN</td>\n",
       "      <td>NaN</td>\n",
       "      <td>NaN</td>\n",
       "      <td>NaN</td>\n",
       "      <td>NaN</td>\n",
       "      <td>NaN</td>\n",
       "      <td>NaN</td>\n",
       "      <td>NaN</td>\n",
       "      <td>NaN</td>\n",
       "      <td>NaN</td>\n",
       "      <td>NaN</td>\n",
       "      <td>NaN</td>\n",
       "      <td>NaN</td>\n",
       "      <td>NaN</td>\n",
       "    </tr>\n",
       "  </tbody>\n",
       "</table>\n",
       "</div>"
      ],
      "text/plain": [
       "  complaint_number               date_filed              date_abated block  lot  street_number street_name street_suffix  unit  zip_code           complaint_description      status           receiving_division             assigned_division     last_inspection_date      date_1st_nov_issued nov_type date_2nd_nov_issued closed_date director_hearing_date final_warning_letter_issued parcel_number analysis_neighborhood  supervisor_district point  :@computed_region_6qbp_sg9q  :@computed_region_qgnn_b9vv  :@computed_region_26cr_cadq  :@computed_region_ajp5_b2md  :@computed_region_rxqg_mtj9  :@computed_region_yftq_j783  :@computed_region_jx4q_fizf  :@computed_region_bh8s_q3mv  :@computed_region_jwn9_ihcz date_referred_to_city_attorney\n",
       "0         H9504209  1995-12-05T00:00:00.000  1995-12-06T00:00:00.000  0822  029            969       Hayes            St   2.0   94117.0           Illegal unit in back.  Not Active  Housing Inspection Services  Building Inspection Division                      NaN                      NaN      NaN                 NaN         NaN                   NaN                         NaN           NaN                   NaN                  NaN   NaN                          NaN                          NaN                          NaN                          NaN                          NaN                          NaN                          NaN                          NaN                          NaN                            NaN\n",
       "1         H9601135  1996-03-12T00:00:00.000  1996-03-19T00:00:00.000  1364  003            121         4th            Av   NaN   94118.0              Illegal demolition  Not Active  Housing Inspection Services  Building Inspection Division  1996-03-15T00:00:00.000                      NaN      NaN                 NaN         NaN                   NaN                         NaN           NaN                   NaN                  NaN   NaN                          NaN                          NaN                          NaN                          NaN                          NaN                          NaN                          NaN                          NaN                          NaN                            NaN\n",
       "2         H9403757  1994-10-21T00:00:00.000  1994-10-31T00:00:00.000  6652  023           1731         Noe            St   NaN   94131.0  No heat since 25th of august/.  Not Active  Housing Inspection Services   Housing Inspection Services                      NaN                      NaN      NaN                 NaN         NaN                   NaN                         NaN           NaN                   NaN                  NaN   NaN                          NaN                          NaN                          NaN                          NaN                          NaN                          NaN                          NaN                          NaN                          NaN                            NaN\n",
       "3        199600880  1996-09-03T00:00:00.000  1996-09-03T00:00:00.000  2699  041            315    Douglass            St   NaN   94114.0              Routine inspection  Not Active  Housing Inspection Services   Housing Inspection Services                      NaN                      NaN      NaN                 NaN         NaN                   NaN                         NaN           NaN                   NaN                  NaN   NaN                          NaN                          NaN                          NaN                          NaN                          NaN                          NaN                          NaN                          NaN                          NaN                            NaN\n",
       "4        199602151  1996-11-12T00:00:00.000  1997-01-31T00:00:00.000  0606  017           2400     Steiner            St   NaN   94115.0              Routine inspection  Not Active  Housing Inspection Services   Housing Inspection Services  1996-11-12T00:00:00.000  1996-11-12T00:00:00.000  Routine                 NaN         NaN                   NaN                         NaN           NaN                   NaN                  NaN   NaN                          NaN                          NaN                          NaN                          NaN                          NaN                          NaN                          NaN                          NaN                          NaN                            NaN"
      ]
     },
     "execution_count": 5,
     "metadata": {},
     "output_type": "execute_result"
    }
   ],
   "source": [
    "df.head()"
   ]
  },
  {
   "cell_type": "code",
   "execution_count": 6,
   "id": "279492da",
   "metadata": {
    "scrolled": true
   },
   "outputs": [
    {
     "data": {
      "text/plain": [
       "(267467, 35)"
      ]
     },
     "execution_count": 6,
     "metadata": {},
     "output_type": "execute_result"
    }
   ],
   "source": [
    "#view the shape of our dataset\n",
    "df.shape"
   ]
  },
  {
   "cell_type": "code",
   "execution_count": 7,
   "id": "4797c4b0",
   "metadata": {},
   "outputs": [
    {
     "data": {
      "text/plain": [
       "7955     H9600442\n",
       "12020    H9600272\n",
       "7867     H9602035\n",
       "10115    H9401768\n",
       "2576     H9602178\n",
       "6925     H9402464\n",
       "4701     H9603312\n",
       "5950     H9602693\n",
       "7663     H9504507\n",
       "9767     H9502032\n",
       "Name: complaint_number, dtype: object"
      ]
     },
     "execution_count": 7,
     "metadata": {},
     "output_type": "execute_result"
    }
   ],
   "source": [
    "#view a sample of 10 complaint_numbers where the complaint contains a character instead of digit\n",
    "#this will help us understand why pandas couldn't parse this column as the index which was done in our fetch_data file\n",
    "df.loc[~df['complaint_number'].astype(str).str.isdigit(), 'complaint_number'].sample(10)"
   ]
  },
  {
   "cell_type": "code",
   "execution_count": 8,
   "id": "bd35d39e",
   "metadata": {},
   "outputs": [],
   "source": [
    "#replace the H's that occur in the complaint_number with ''\n",
    "df['complaint_number'] = pd.to_numeric(df['complaint_number'].replace('H','', regex = True))\n",
    "#set the index to the new complaint_number\n",
    "df.set_index('complaint_number', inplace = True)"
   ]
  },
  {
   "cell_type": "code",
   "execution_count": 9,
   "id": "eb85fab4",
   "metadata": {},
   "outputs": [
    {
     "data": {
      "text/plain": [
       "460"
      ]
     },
     "execution_count": 9,
     "metadata": {},
     "output_type": "execute_result"
    }
   ],
   "source": [
    "#check for duplicate rows\n",
    "df.duplicated().sum()"
   ]
  },
  {
   "cell_type": "code",
   "execution_count": 10,
   "id": "f0c21cce",
   "metadata": {},
   "outputs": [
    {
     "data": {
      "text/plain": [
       "date_filed                         object\n",
       "date_abated                        object\n",
       "block                              object\n",
       "lot                                object\n",
       "street_number                       int64\n",
       "street_name                        object\n",
       "street_suffix                      object\n",
       "unit                              float64\n",
       "zip_code                          float64\n",
       "complaint_description              object\n",
       "status                             object\n",
       "receiving_division                 object\n",
       "assigned_division                  object\n",
       "last_inspection_date               object\n",
       "date_1st_nov_issued                object\n",
       "nov_type                           object\n",
       "date_2nd_nov_issued                object\n",
       "closed_date                        object\n",
       "director_hearing_date              object\n",
       "final_warning_letter_issued        object\n",
       "parcel_number                      object\n",
       "analysis_neighborhood              object\n",
       "supervisor_district               float64\n",
       "point                              object\n",
       ":@computed_region_6qbp_sg9q       float64\n",
       ":@computed_region_qgnn_b9vv       float64\n",
       ":@computed_region_26cr_cadq       float64\n",
       ":@computed_region_ajp5_b2md       float64\n",
       ":@computed_region_rxqg_mtj9       float64\n",
       ":@computed_region_yftq_j783       float64\n",
       ":@computed_region_jx4q_fizf       float64\n",
       ":@computed_region_bh8s_q3mv       float64\n",
       ":@computed_region_jwn9_ihcz       float64\n",
       "date_referred_to_city_attorney     object\n",
       "dtype: object"
      ]
     },
     "execution_count": 10,
     "metadata": {},
     "output_type": "execute_result"
    }
   ],
   "source": [
    "#check data types\n",
    "df.dtypes"
   ]
  },
  {
   "cell_type": "code",
   "execution_count": 11,
   "id": "c5542b71",
   "metadata": {},
   "outputs": [
    {
     "data": {
      "text/plain": [
       "complaint_number\n",
       "201228985                            Routine safety inspection\n",
       "201871561    4172 mission st;  2nd &amp; 3rd floor ; buildi...\n",
       "9403458                    A variety of maintenance violations\n",
       "200708930    1. broken tiles in bathroom.  2. no hot water ...\n",
       "200343393                                   Routine inspection\n",
       "201071809    Subdivided the building without permit. portio...\n",
       "201125003    Holes in kitchen area by the porch and other m...\n",
       "201033721    Faucet to kitchen sink is broken, using a scre...\n",
       "200453733      Broken window, fumes from paint.  no door bell.\n",
       "201724412    Date last observed: 08-dec-17;    time last ob...\n",
       "Name: complaint_description, dtype: object"
      ]
     },
     "metadata": {},
     "output_type": "display_data"
    }
   ],
   "source": [
    "#examine a sample of complaint descriptions\n",
    "display(df.complaint_description.sample(10))"
   ]
  },
  {
   "cell_type": "code",
   "execution_count": 12,
   "id": "b03711f9",
   "metadata": {},
   "outputs": [
    {
     "data": {
      "text/plain": [
       "date_filed                             0\n",
       "date_abated                        76026\n",
       "block                                  0\n",
       "lot                                    0\n",
       "street_number                          0\n",
       "street_name                            0\n",
       "street_suffix                          0\n",
       "unit                              232318\n",
       "zip_code                            1076\n",
       "complaint_description                432\n",
       "status                                 0\n",
       "receiving_division                     0\n",
       "assigned_division                      8\n",
       "last_inspection_date              134345\n",
       "date_1st_nov_issued               157959\n",
       "nov_type                          173684\n",
       "date_2nd_nov_issued               256858\n",
       "closed_date                       197523\n",
       "director_hearing_date             252512\n",
       "final_warning_letter_issued       248762\n",
       "parcel_number                       3719\n",
       "analysis_neighborhood               3715\n",
       "supervisor_district                 3715\n",
       "point                               3704\n",
       ":@computed_region_6qbp_sg9q         3732\n",
       ":@computed_region_qgnn_b9vv         3773\n",
       ":@computed_region_26cr_cadq         3741\n",
       ":@computed_region_ajp5_b2md         3746\n",
       ":@computed_region_rxqg_mtj9         3741\n",
       ":@computed_region_yftq_j783         3829\n",
       ":@computed_region_jx4q_fizf         3774\n",
       ":@computed_region_bh8s_q3mv         3709\n",
       ":@computed_region_jwn9_ihcz         3732\n",
       "date_referred_to_city_attorney    267030\n",
       "dtype: int64"
      ]
     },
     "execution_count": 12,
     "metadata": {},
     "output_type": "execute_result"
    }
   ],
   "source": [
    "#determine where null values are located\n",
    "df.isna().sum()"
   ]
  },
  {
   "cell_type": "code",
   "execution_count": 13,
   "id": "afce1df7",
   "metadata": {},
   "outputs": [],
   "source": [
    "#drop the columns that have null complaint descriptions\n",
    "df.dropna(subset = ['complaint_description'], inplace = True)"
   ]
  },
  {
   "cell_type": "code",
   "execution_count": 14,
   "id": "8edd9aaf",
   "metadata": {
    "scrolled": false
   },
   "outputs": [
    {
     "name": "stdout",
     "output_type": "stream",
     "text": [
      "Routine inspection                                                       19466\n",
      "Routine                                                                  12653\n",
      "Routine safety inspection                                                 4664\n",
      "Routine inspection.                                                       1584\n",
      "Routines.                                                                 1519\n",
      "Vacant storefront                                                         1506\n",
      "Routines                                                                  1317\n",
      "Vacant building                                                           1176\n",
      "No heat                                                                   1023\n",
      "Unsafe bldg.                                                               963\n",
      "Routine inspection of common areas of subject property.                    924\n",
      "Routine apartment house inspection                                         882\n",
      "Health and safety inspection of apartment house. sec.302.(a)hc             765\n",
      "Sched rt.                                                                  668\n",
      "Vacant commercial storefront                                               607\n",
      "No heat.                                                                   567\n",
      "Routine inspection of common areas.                                        566\n",
      "Apt. routine inspection.                                                   466\n",
      "Work w/out permit.                                                         447\n",
      "Routine inspection of the (common area) building sec.(303 a s.f.h.c.)      445\n",
      "Name: complaint_description, dtype: int64\n"
     ]
    }
   ],
   "source": [
    "#group the most common 20 complaint descriptions\n",
    "common_complaints = df.complaint_description.value_counts().sort_values(ascending = False).head(20)\n",
    "\n",
    "print(common_complaints)"
   ]
  },
  {
   "cell_type": "code",
   "execution_count": 15,
   "id": "ceb42f46",
   "metadata": {},
   "outputs": [],
   "source": [
    "# create a dataset sorted by common complaint description \n",
    "#note we multiply the size of each group by -1 to sort in descending order\n",
    "#ascending = False doesn't work with argsort\n",
    "sorted_complaints = df.iloc[df.groupby('complaint_description').complaint_description.transform('size') \\\n",
    "          .mul(-1).argsort(kind='mergesort')].head(common_complaints.sum())"
   ]
  },
  {
   "cell_type": "code",
   "execution_count": 16,
   "id": "a6a7cc88",
   "metadata": {},
   "outputs": [],
   "source": [
    "#here we can view the most common complaint descriptions\n",
    "#we see that the majority of the \"routine\" complaints are assigned to Housing Inspection Services\n",
    "complaints_by_division = sorted_complaints.groupby(['assigned_division']) \\\n",
    "                    ['complaint_description'].value_counts() \\\n",
    "                    .sort_values(ascending = False).to_frame() \\\n",
    "                    .rename(columns={'complaint_description':'complaint_count'}).reset_index()"
   ]
  },
  {
   "cell_type": "code",
   "execution_count": 17,
   "id": "f36a027e",
   "metadata": {},
   "outputs": [
    {
     "data": {
      "image/png": "[encoded data removed]",
      "text/plain": [
       "<Figure size 1728x720 with 1 Axes>"
      ]
     },
     "metadata": {
      "needs_background": "light"
     },
     "output_type": "display_data"
    }
   ],
   "source": [
    "fig, ax = plt.subplots(figsize=(24,10))\n",
    "\n",
    "ax = sns.barplot(x=complaints_by_division['complaint_description'], \n",
    "                 y=complaints_by_division['complaint_count'], color='dodgerblue', \n",
    "                 alpha = .7)"
   ]
  },
  {
   "cell_type": "code",
   "execution_count": 18,
   "id": "b6291769",
   "metadata": {},
   "outputs": [],
   "source": [
    "#create a df of complaints that were reassigned from their original location\n",
    "reassigned = df.loc[(df['receiving_division'] != df['assigned_division'])]"
   ]
  },
  {
   "cell_type": "code",
   "execution_count": 19,
   "id": "94ea6949",
   "metadata": {},
   "outputs": [],
   "source": [
    "common_reassigned = reassigned.complaint_description.value_counts().sort_values(ascending = False).head(20)"
   ]
  },
  {
   "cell_type": "code",
   "execution_count": 20,
   "id": "84f4861a",
   "metadata": {},
   "outputs": [],
   "source": [
    "sorted_reassigned = reassigned.iloc[reassigned.groupby('complaint_description').complaint_description.transform('size') \\\n",
    "          .mul(-1).argsort(kind='mergesort')].head(common_reassigned.sum())"
   ]
  },
  {
   "cell_type": "code",
   "execution_count": 21,
   "id": "a29f6903",
   "metadata": {},
   "outputs": [],
   "source": [
    "reassigned_by_division = sorted_reassigned.groupby(['assigned_division']) \\\n",
    "                    ['complaint_description'].value_counts() \\\n",
    "                    .sort_values(ascending = False).to_frame() \\\n",
    "                    .rename(columns={'complaint_description':'complaint_count'}).reset_index()  "
   ]
  },
  {
   "cell_type": "code",
   "execution_count": 22,
   "id": "b579a1bd",
   "metadata": {},
   "outputs": [
    {
     "data": {
      "image/png": "[encoded data removed]",
      "text/plain": [
       "<Figure size 1728x720 with 1 Axes>"
      ]
     },
     "metadata": {
      "needs_background": "light"
     },
     "output_type": "display_data"
    }
   ],
   "source": [
    "#we can see that complaints that were reassigned have a much larger dispersion\n",
    "fig, ax = plt.subplots(figsize=(24,10))\n",
    "\n",
    "ax = sns.barplot(x=reassigned_by_division['complaint_description'], \n",
    "                 y=reassigned_by_division['complaint_count'], color='dodgerblue', \n",
    "                 alpha = .7)"
   ]
  },
  {
   "cell_type": "markdown",
   "id": "75a60c59",
   "metadata": {},
   "source": [
    "Finally we will look at our complaints in further detail "
   ]
  },
  {
   "cell_type": "code",
   "execution_count": 41,
   "id": "bf4e1d44",
   "metadata": {},
   "outputs": [
    {
     "name": "stdout",
     "output_type": "stream",
     "text": [
      "Mean complaint length:  110.22917220589062\n",
      "Min complaint length:  1\n",
      "Max complaint length:  1000\n"
     ]
    },
    {
     "data": {
      "text/plain": [
       "Text(0, 0.5, 'Count')"
      ]
     },
     "execution_count": 41,
     "metadata": {},
     "output_type": "execute_result"
    },
    {
     "data": {
      "image/png": "[encoded data removed]",
      "text/plain": [
       "<Figure size 1728x720 with 1 Axes>"
      ]
     },
     "metadata": {
      "needs_background": "light"
     },
     "output_type": "display_data"
    }
   ],
   "source": [
    "df['complaint_length'] = df['complaint_description'].apply(len)\n",
    "print(\"Mean complaint length: \", df['complaint_length'].mean())\n",
    "print(\"Min complaint length: \", df['complaint_length'].min())\n",
    "print(\"Max complaint length: \", df['complaint_length'].max())\n",
    "\n",
    "#plot a histogram of the complaint lengths\n",
    "fig, ax = plt.subplots(figsize=(24,10))\n",
    "ax = sns.histplot(data = df, x='complaint_length', bins = 50)\n",
    "ax.set_xlabel('Complaint Length', fontsize = 20)\n",
    "ax.set_ylabel('Count', fontsize = 20)"
   ]
  },
  {
   "cell_type": "code",
   "execution_count": 50,
   "id": "427d990d",
   "metadata": {},
   "outputs": [
    {
     "ename": "NameError",
     "evalue": "name 'WordCloud' is not defined",
     "output_type": "error",
     "traceback": [
      "\u001b[0;31m---------------------------------------------------------------------------\u001b[0m",
      "\u001b[0;31mNameError\u001b[0m                                 Traceback (most recent call last)",
      "\u001b[0;32m/var/folders/n5/jq7nqv5j1jx1zt7bv93w8p6w0000gn/T/ipykernel_1611/4108127751.py\u001b[0m in \u001b[0;36m<module>\u001b[0;34m\u001b[0m\n\u001b[1;32m      2\u001b[0m \u001b[0mstop_words\u001b[0m \u001b[0;34m=\u001b[0m \u001b[0mset\u001b[0m\u001b[0;34m(\u001b[0m\u001b[0mstopwords\u001b[0m\u001b[0;34m.\u001b[0m\u001b[0mwords\u001b[0m\u001b[0;34m(\u001b[0m\u001b[0;34m'english'\u001b[0m\u001b[0;34m)\u001b[0m\u001b[0;34m)\u001b[0m\u001b[0;34m\u001b[0m\u001b[0;34m\u001b[0m\u001b[0m\n\u001b[1;32m      3\u001b[0m \u001b[0;34m\u001b[0m\u001b[0m\n\u001b[0;32m----> 4\u001b[0;31m \u001b[0mwordcloud\u001b[0m \u001b[0;34m=\u001b[0m \u001b[0mWordCloud\u001b[0m\u001b[0;34m(\u001b[0m\u001b[0mstopwords\u001b[0m\u001b[0;34m=\u001b[0m\u001b[0mSTOPWORDS\u001b[0m\u001b[0;34m)\u001b[0m\u001b[0;34m.\u001b[0m\u001b[0mgenerate\u001b[0m\u001b[0;34m(\u001b[0m\u001b[0mstr\u001b[0m\u001b[0;34m(\u001b[0m\u001b[0mtext\u001b[0m\u001b[0;34m)\u001b[0m\u001b[0;34m)\u001b[0m\u001b[0;34m\u001b[0m\u001b[0;34m\u001b[0m\u001b[0m\n\u001b[0m\u001b[1;32m      5\u001b[0m \u001b[0mplt\u001b[0m\u001b[0;34m.\u001b[0m\u001b[0mimshow\u001b[0m\u001b[0;34m(\u001b[0m\u001b[0mwordcloud\u001b[0m\u001b[0;34m)\u001b[0m\u001b[0;34m\u001b[0m\u001b[0;34m\u001b[0m\u001b[0m\n\u001b[1;32m      6\u001b[0m \u001b[0mplt\u001b[0m\u001b[0;34m.\u001b[0m\u001b[0maxis\u001b[0m\u001b[0;34m(\u001b[0m\u001b[0;34m\"off\"\u001b[0m\u001b[0;34m)\u001b[0m\u001b[0;34m\u001b[0m\u001b[0;34m\u001b[0m\u001b[0m\n",
      "\u001b[0;31mNameError\u001b[0m: name 'WordCloud' is not defined"
     ]
    }
   ],
   "source": [
    "text = list(df['complaint_description'].values)\n",
    "stop_words = set(stopwords.words('english'))\n",
    "\n",
    "wordcloud = WordCloud(stopwords=STOPWORDS).generate(str(text))\n",
    "plt.imshow(wordcloud)\n",
    "plt.axis(\"off\")\n",
    "plt.show()"
   ]
  },
  {
   "cell_type": "markdown",
   "id": "ae6a9987",
   "metadata": {},
   "source": [
    "<h1> Data Prep</h1>"
   ]
  },
  {
   "cell_type": "markdown",
   "id": "000eb495",
   "metadata": {},
   "source": [
    "At this point we will drop unncessary columns and begin to transform the complaints \n"
   ]
  },
  {
   "cell_type": "code",
   "execution_count": 23,
   "id": "6e89fd1a",
   "metadata": {},
   "outputs": [
    {
     "data": {
      "text/plain": [
       "1000"
      ]
     },
     "execution_count": 23,
     "metadata": {},
     "output_type": "execute_result"
    }
   ],
   "source": [
    "df[\"complaint_description\"].str.len().max()"
   ]
  },
  {
   "cell_type": "code",
   "execution_count": 24,
   "id": "b4622bda",
   "metadata": {},
   "outputs": [],
   "source": [
    "# print(f\" - max length:   {np.max(df.complaint_description)}\")\n",
    "# print(f\" - min length:   {np.min(df.complaint_description)}\")\n",
    "# print(f\" - mean length:  {np.mean(df.complaint_description)}\")"
   ]
  },
  {
   "cell_type": "code",
   "execution_count": 25,
   "id": "f6121768",
   "metadata": {},
   "outputs": [],
   "source": [
    "complaints = df.copy()"
   ]
  },
  {
   "cell_type": "code",
   "execution_count": 26,
   "id": "13401c1d",
   "metadata": {},
   "outputs": [
    {
     "data": {
      "text/html": [
       "<div>\n",
       "<style scoped>\n",
       "    .dataframe tbody tr th:only-of-type {\n",
       "        vertical-align: middle;\n",
       "    }\n",
       "\n",
       "    .dataframe tbody tr th {\n",
       "        vertical-align: top;\n",
       "    }\n",
       "\n",
       "    .dataframe thead th {\n",
       "        text-align: right;\n",
       "    }\n",
       "</style>\n",
       "<table border=\"1\" class=\"dataframe\">\n",
       "  <thead>\n",
       "    <tr style=\"text-align: right;\">\n",
       "      <th></th>\n",
       "      <th>date_filed</th>\n",
       "      <th>date_abated</th>\n",
       "      <th>block</th>\n",
       "      <th>lot</th>\n",
       "      <th>street_number</th>\n",
       "      <th>street_name</th>\n",
       "      <th>street_suffix</th>\n",
       "      <th>unit</th>\n",
       "      <th>zip_code</th>\n",
       "      <th>complaint_description</th>\n",
       "      <th>status</th>\n",
       "      <th>receiving_division</th>\n",
       "      <th>assigned_division</th>\n",
       "      <th>last_inspection_date</th>\n",
       "      <th>date_1st_nov_issued</th>\n",
       "      <th>nov_type</th>\n",
       "      <th>date_2nd_nov_issued</th>\n",
       "      <th>closed_date</th>\n",
       "      <th>director_hearing_date</th>\n",
       "      <th>final_warning_letter_issued</th>\n",
       "      <th>parcel_number</th>\n",
       "      <th>analysis_neighborhood</th>\n",
       "      <th>supervisor_district</th>\n",
       "      <th>point</th>\n",
       "      <th>:@computed_region_6qbp_sg9q</th>\n",
       "      <th>:@computed_region_qgnn_b9vv</th>\n",
       "      <th>:@computed_region_26cr_cadq</th>\n",
       "      <th>:@computed_region_ajp5_b2md</th>\n",
       "      <th>:@computed_region_rxqg_mtj9</th>\n",
       "      <th>:@computed_region_yftq_j783</th>\n",
       "      <th>:@computed_region_jx4q_fizf</th>\n",
       "      <th>:@computed_region_bh8s_q3mv</th>\n",
       "      <th>:@computed_region_jwn9_ihcz</th>\n",
       "      <th>date_referred_to_city_attorney</th>\n",
       "    </tr>\n",
       "    <tr>\n",
       "      <th>complaint_number</th>\n",
       "      <th></th>\n",
       "      <th></th>\n",
       "      <th></th>\n",
       "      <th></th>\n",
       "      <th></th>\n",
       "      <th></th>\n",
       "      <th></th>\n",
       "      <th></th>\n",
       "      <th></th>\n",
       "      <th></th>\n",
       "      <th></th>\n",
       "      <th></th>\n",
       "      <th></th>\n",
       "      <th></th>\n",
       "      <th></th>\n",
       "      <th></th>\n",
       "      <th></th>\n",
       "      <th></th>\n",
       "      <th></th>\n",
       "      <th></th>\n",
       "      <th></th>\n",
       "      <th></th>\n",
       "      <th></th>\n",
       "      <th></th>\n",
       "      <th></th>\n",
       "      <th></th>\n",
       "      <th></th>\n",
       "      <th></th>\n",
       "      <th></th>\n",
       "      <th></th>\n",
       "      <th></th>\n",
       "      <th></th>\n",
       "      <th></th>\n",
       "      <th></th>\n",
       "    </tr>\n",
       "  </thead>\n",
       "  <tbody>\n",
       "    <tr>\n",
       "      <th>9504209</th>\n",
       "      <td>1995-12-05T00:00:00.000</td>\n",
       "      <td>1995-12-06T00:00:00.000</td>\n",
       "      <td>0822</td>\n",
       "      <td>029</td>\n",
       "      <td>969</td>\n",
       "      <td>Hayes</td>\n",
       "      <td>St</td>\n",
       "      <td>2.0</td>\n",
       "      <td>94117.0</td>\n",
       "      <td>Illegal unit in back.</td>\n",
       "      <td>Not Active</td>\n",
       "      <td>Housing Inspection Services</td>\n",
       "      <td>Building Inspection Division</td>\n",
       "      <td>NaN</td>\n",
       "      <td>NaN</td>\n",
       "      <td>NaN</td>\n",
       "      <td>NaN</td>\n",
       "      <td>NaN</td>\n",
       "      <td>NaN</td>\n",
       "      <td>NaN</td>\n",
       "      <td>NaN</td>\n",
       "      <td>NaN</td>\n",
       "      <td>NaN</td>\n",
       "      <td>NaN</td>\n",
       "      <td>NaN</td>\n",
       "      <td>NaN</td>\n",
       "      <td>NaN</td>\n",
       "      <td>NaN</td>\n",
       "      <td>NaN</td>\n",
       "      <td>NaN</td>\n",
       "      <td>NaN</td>\n",
       "      <td>NaN</td>\n",
       "      <td>NaN</td>\n",
       "      <td>NaN</td>\n",
       "    </tr>\n",
       "    <tr>\n",
       "      <th>9601135</th>\n",
       "      <td>1996-03-12T00:00:00.000</td>\n",
       "      <td>1996-03-19T00:00:00.000</td>\n",
       "      <td>1364</td>\n",
       "      <td>003</td>\n",
       "      <td>121</td>\n",
       "      <td>4th</td>\n",
       "      <td>Av</td>\n",
       "      <td>NaN</td>\n",
       "      <td>94118.0</td>\n",
       "      <td>Illegal demolition</td>\n",
       "      <td>Not Active</td>\n",
       "      <td>Housing Inspection Services</td>\n",
       "      <td>Building Inspection Division</td>\n",
       "      <td>1996-03-15T00:00:00.000</td>\n",
       "      <td>NaN</td>\n",
       "      <td>NaN</td>\n",
       "      <td>NaN</td>\n",
       "      <td>NaN</td>\n",
       "      <td>NaN</td>\n",
       "      <td>NaN</td>\n",
       "      <td>NaN</td>\n",
       "      <td>NaN</td>\n",
       "      <td>NaN</td>\n",
       "      <td>NaN</td>\n",
       "      <td>NaN</td>\n",
       "      <td>NaN</td>\n",
       "      <td>NaN</td>\n",
       "      <td>NaN</td>\n",
       "      <td>NaN</td>\n",
       "      <td>NaN</td>\n",
       "      <td>NaN</td>\n",
       "      <td>NaN</td>\n",
       "      <td>NaN</td>\n",
       "      <td>NaN</td>\n",
       "    </tr>\n",
       "    <tr>\n",
       "      <th>9403757</th>\n",
       "      <td>1994-10-21T00:00:00.000</td>\n",
       "      <td>1994-10-31T00:00:00.000</td>\n",
       "      <td>6652</td>\n",
       "      <td>023</td>\n",
       "      <td>1731</td>\n",
       "      <td>Noe</td>\n",
       "      <td>St</td>\n",
       "      <td>NaN</td>\n",
       "      <td>94131.0</td>\n",
       "      <td>No heat since 25th of august/.</td>\n",
       "      <td>Not Active</td>\n",
       "      <td>Housing Inspection Services</td>\n",
       "      <td>Housing Inspection Services</td>\n",
       "      <td>NaN</td>\n",
       "      <td>NaN</td>\n",
       "      <td>NaN</td>\n",
       "      <td>NaN</td>\n",
       "      <td>NaN</td>\n",
       "      <td>NaN</td>\n",
       "      <td>NaN</td>\n",
       "      <td>NaN</td>\n",
       "      <td>NaN</td>\n",
       "      <td>NaN</td>\n",
       "      <td>NaN</td>\n",
       "      <td>NaN</td>\n",
       "      <td>NaN</td>\n",
       "      <td>NaN</td>\n",
       "      <td>NaN</td>\n",
       "      <td>NaN</td>\n",
       "      <td>NaN</td>\n",
       "      <td>NaN</td>\n",
       "      <td>NaN</td>\n",
       "      <td>NaN</td>\n",
       "      <td>NaN</td>\n",
       "    </tr>\n",
       "    <tr>\n",
       "      <th>199600880</th>\n",
       "      <td>1996-09-03T00:00:00.000</td>\n",
       "      <td>1996-09-03T00:00:00.000</td>\n",
       "      <td>2699</td>\n",
       "      <td>041</td>\n",
       "      <td>315</td>\n",
       "      <td>Douglass</td>\n",
       "      <td>St</td>\n",
       "      <td>NaN</td>\n",
       "      <td>94114.0</td>\n",
       "      <td>Routine inspection</td>\n",
       "      <td>Not Active</td>\n",
       "      <td>Housing Inspection Services</td>\n",
       "      <td>Housing Inspection Services</td>\n",
       "      <td>NaN</td>\n",
       "      <td>NaN</td>\n",
       "      <td>NaN</td>\n",
       "      <td>NaN</td>\n",
       "      <td>NaN</td>\n",
       "      <td>NaN</td>\n",
       "      <td>NaN</td>\n",
       "      <td>NaN</td>\n",
       "      <td>NaN</td>\n",
       "      <td>NaN</td>\n",
       "      <td>NaN</td>\n",
       "      <td>NaN</td>\n",
       "      <td>NaN</td>\n",
       "      <td>NaN</td>\n",
       "      <td>NaN</td>\n",
       "      <td>NaN</td>\n",
       "      <td>NaN</td>\n",
       "      <td>NaN</td>\n",
       "      <td>NaN</td>\n",
       "      <td>NaN</td>\n",
       "      <td>NaN</td>\n",
       "    </tr>\n",
       "    <tr>\n",
       "      <th>199602151</th>\n",
       "      <td>1996-11-12T00:00:00.000</td>\n",
       "      <td>1997-01-31T00:00:00.000</td>\n",
       "      <td>0606</td>\n",
       "      <td>017</td>\n",
       "      <td>2400</td>\n",
       "      <td>Steiner</td>\n",
       "      <td>St</td>\n",
       "      <td>NaN</td>\n",
       "      <td>94115.0</td>\n",
       "      <td>Routine inspection</td>\n",
       "      <td>Not Active</td>\n",
       "      <td>Housing Inspection Services</td>\n",
       "      <td>Housing Inspection Services</td>\n",
       "      <td>1996-11-12T00:00:00.000</td>\n",
       "      <td>1996-11-12T00:00:00.000</td>\n",
       "      <td>Routine</td>\n",
       "      <td>NaN</td>\n",
       "      <td>NaN</td>\n",
       "      <td>NaN</td>\n",
       "      <td>NaN</td>\n",
       "      <td>NaN</td>\n",
       "      <td>NaN</td>\n",
       "      <td>NaN</td>\n",
       "      <td>NaN</td>\n",
       "      <td>NaN</td>\n",
       "      <td>NaN</td>\n",
       "      <td>NaN</td>\n",
       "      <td>NaN</td>\n",
       "      <td>NaN</td>\n",
       "      <td>NaN</td>\n",
       "      <td>NaN</td>\n",
       "      <td>NaN</td>\n",
       "      <td>NaN</td>\n",
       "      <td>NaN</td>\n",
       "    </tr>\n",
       "  </tbody>\n",
       "</table>\n",
       "</div>"
      ],
      "text/plain": [
       "                               date_filed              date_abated block  lot  street_number street_name street_suffix  unit  zip_code           complaint_description      status           receiving_division             assigned_division     last_inspection_date      date_1st_nov_issued nov_type date_2nd_nov_issued closed_date director_hearing_date final_warning_letter_issued parcel_number analysis_neighborhood  supervisor_district point  :@computed_region_6qbp_sg9q  :@computed_region_qgnn_b9vv  :@computed_region_26cr_cadq  :@computed_region_ajp5_b2md  :@computed_region_rxqg_mtj9  :@computed_region_yftq_j783  :@computed_region_jx4q_fizf  :@computed_region_bh8s_q3mv  :@computed_region_jwn9_ihcz date_referred_to_city_attorney\n",
       "complaint_number                                                                                                                                                                                                                                                                                                                                                                                                                                                                                                                                                                                                                                                                                                                                             \n",
       "9504209           1995-12-05T00:00:00.000  1995-12-06T00:00:00.000  0822  029            969       Hayes            St   2.0   94117.0           Illegal unit in back.  Not Active  Housing Inspection Services  Building Inspection Division                      NaN                      NaN      NaN                 NaN         NaN                   NaN                         NaN           NaN                   NaN                  NaN   NaN                          NaN                          NaN                          NaN                          NaN                          NaN                          NaN                          NaN                          NaN                          NaN                            NaN\n",
       "9601135           1996-03-12T00:00:00.000  1996-03-19T00:00:00.000  1364  003            121         4th            Av   NaN   94118.0              Illegal demolition  Not Active  Housing Inspection Services  Building Inspection Division  1996-03-15T00:00:00.000                      NaN      NaN                 NaN         NaN                   NaN                         NaN           NaN                   NaN                  NaN   NaN                          NaN                          NaN                          NaN                          NaN                          NaN                          NaN                          NaN                          NaN                          NaN                            NaN\n",
       "9403757           1994-10-21T00:00:00.000  1994-10-31T00:00:00.000  6652  023           1731         Noe            St   NaN   94131.0  No heat since 25th of august/.  Not Active  Housing Inspection Services   Housing Inspection Services                      NaN                      NaN      NaN                 NaN         NaN                   NaN                         NaN           NaN                   NaN                  NaN   NaN                          NaN                          NaN                          NaN                          NaN                          NaN                          NaN                          NaN                          NaN                          NaN                            NaN\n",
       "199600880         1996-09-03T00:00:00.000  1996-09-03T00:00:00.000  2699  041            315    Douglass            St   NaN   94114.0              Routine inspection  Not Active  Housing Inspection Services   Housing Inspection Services                      NaN                      NaN      NaN                 NaN         NaN                   NaN                         NaN           NaN                   NaN                  NaN   NaN                          NaN                          NaN                          NaN                          NaN                          NaN                          NaN                          NaN                          NaN                          NaN                            NaN\n",
       "199602151         1996-11-12T00:00:00.000  1997-01-31T00:00:00.000  0606  017           2400     Steiner            St   NaN   94115.0              Routine inspection  Not Active  Housing Inspection Services   Housing Inspection Services  1996-11-12T00:00:00.000  1996-11-12T00:00:00.000  Routine                 NaN         NaN                   NaN                         NaN           NaN                   NaN                  NaN   NaN                          NaN                          NaN                          NaN                          NaN                          NaN                          NaN                          NaN                          NaN                          NaN                            NaN"
      ]
     },
     "execution_count": 26,
     "metadata": {},
     "output_type": "execute_result"
    }
   ],
   "source": [
    "complaints.head()"
   ]
  },
  {
   "cell_type": "code",
   "execution_count": 27,
   "id": "f892c6b3",
   "metadata": {},
   "outputs": [],
   "source": [
    "final_cols = ['complaint_number','complaint_description', 'assigned_division']\n",
    "complaints.drop(columns = complaints.columns.difference(final_cols), inplace=True)"
   ]
  },
  {
   "cell_type": "code",
   "execution_count": 28,
   "id": "0950f419",
   "metadata": {},
   "outputs": [
    {
     "data": {
      "text/html": [
       "<div>\n",
       "<style scoped>\n",
       "    .dataframe tbody tr th:only-of-type {\n",
       "        vertical-align: middle;\n",
       "    }\n",
       "\n",
       "    .dataframe tbody tr th {\n",
       "        vertical-align: top;\n",
       "    }\n",
       "\n",
       "    .dataframe thead th {\n",
       "        text-align: right;\n",
       "    }\n",
       "</style>\n",
       "<table border=\"1\" class=\"dataframe\">\n",
       "  <thead>\n",
       "    <tr style=\"text-align: right;\">\n",
       "      <th></th>\n",
       "      <th>complaint_description</th>\n",
       "      <th>assigned_division</th>\n",
       "    </tr>\n",
       "    <tr>\n",
       "      <th>complaint_number</th>\n",
       "      <th></th>\n",
       "      <th></th>\n",
       "    </tr>\n",
       "  </thead>\n",
       "  <tbody>\n",
       "    <tr>\n",
       "      <th>9504209</th>\n",
       "      <td>Illegal unit in back.</td>\n",
       "      <td>Building Inspection Division</td>\n",
       "    </tr>\n",
       "    <tr>\n",
       "      <th>9601135</th>\n",
       "      <td>Illegal demolition</td>\n",
       "      <td>Building Inspection Division</td>\n",
       "    </tr>\n",
       "    <tr>\n",
       "      <th>9403757</th>\n",
       "      <td>No heat since 25th of august/.</td>\n",
       "      <td>Housing Inspection Services</td>\n",
       "    </tr>\n",
       "    <tr>\n",
       "      <th>199600880</th>\n",
       "      <td>Routine inspection</td>\n",
       "      <td>Housing Inspection Services</td>\n",
       "    </tr>\n",
       "    <tr>\n",
       "      <th>199602151</th>\n",
       "      <td>Routine inspection</td>\n",
       "      <td>Housing Inspection Services</td>\n",
       "    </tr>\n",
       "  </tbody>\n",
       "</table>\n",
       "</div>"
      ],
      "text/plain": [
       "                           complaint_description             assigned_division\n",
       "complaint_number                                                              \n",
       "9504209                    Illegal unit in back.  Building Inspection Division\n",
       "9601135                       Illegal demolition  Building Inspection Division\n",
       "9403757           No heat since 25th of august/.   Housing Inspection Services\n",
       "199600880                     Routine inspection   Housing Inspection Services\n",
       "199602151                     Routine inspection   Housing Inspection Services"
      ]
     },
     "execution_count": 28,
     "metadata": {},
     "output_type": "execute_result"
    }
   ],
   "source": [
    "complaints.head()"
   ]
  },
  {
   "cell_type": "code",
   "execution_count": null,
   "id": "10149d20",
   "metadata": {},
   "outputs": [],
   "source": []
  }
 ],
 "metadata": {
  "kernelspec": {
   "display_name": "Python [conda env:sf_building_complaints] *",
   "language": "python",
   "name": "conda-env-sf_building_complaints-py"
  },
  "language_info": {
   "codemirror_mode": {
    "name": "ipython",
    "version": 3
   },
   "file_extension": ".py",
   "mimetype": "text/x-python",
   "name": "python",
   "nbconvert_exporter": "python",
   "pygments_lexer": "ipython3",
   "version": "3.9.5"
  },
  "toc": {
   "base_numbering": 1,
   "nav_menu": {},
   "number_sections": false,
   "sideBar": true,
   "skip_h1_title": false,
   "title_cell": "Table of Contents",
   "title_sidebar": "Contents",
   "toc_cell": true,
   "toc_position": {
    "height": "calc(100% - 180px)",
    "left": "10px",
    "top": "150px",
    "width": "512px"
   },
   "toc_section_display": true,
   "toc_window_display": true
  }
 },
 "nbformat": 4,
 "nbformat_minor": 5
}
