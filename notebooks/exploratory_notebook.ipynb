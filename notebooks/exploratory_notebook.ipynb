{
 "cells": [
  {
   "cell_type": "markdown",
   "id": "0a9c3a24",
   "metadata": {
    "toc": true
   },
   "source": [
    "<h1>Table of Contents<span class=\"tocSkip\"></span></h1>\n",
    "<div class=\"toc\"><ul class=\"toc-item\"></ul></div>"
   ]
  },
  {
   "cell_type": "code",
   "execution_count": 1,
   "id": "2aff7ab4",
   "metadata": {},
   "outputs": [],
   "source": [
    "import os\n",
    "import pandas as pd"
   ]
  },
  {
   "cell_type": "code",
   "execution_count": 2,
   "id": "cbaa8cbb",
   "metadata": {},
   "outputs": [
    {
     "name": "stdout",
     "output_type": "stream",
     "text": [
      "/Users/WillemCole/Desktop/Programming/DataScience/Projects/sf_building_complaints/data/\n"
     ]
    }
   ],
   "source": [
    "working_dir = os.getcwd()\n",
    "data_path = os.path.dirname(working_dir) + '/data/'\n",
    "print(data_path)"
   ]
  },
  {
   "cell_type": "code",
   "execution_count": 3,
   "id": "8ee05a86",
   "metadata": {},
   "outputs": [
    {
     "name": "stderr",
     "output_type": "stream",
     "text": [
      "/Users/WillemCole/miniconda3/envs/sf_building_complaints/lib/python3.9/site-packages/IPython/core/interactiveshell.py:3441: DtypeWarning: Columns (0,33) have mixed types.Specify dtype option on import or set low_memory=False.\n",
      "  exec(code_obj, self.user_global_ns, self.user_ns)\n"
     ]
    }
   ],
   "source": [
    "df = pd.read_csv(data_path + 'complaints.csv')"
   ]
  },
  {
   "cell_type": "markdown",
   "id": "78017a3b",
   "metadata": {},
   "source": [
    "When we import the dataset we notice a DtypeWarning about mixed types in our complaint_number column which should be the index. We will fix this shortly."
   ]
  },
  {
   "cell_type": "code",
   "execution_count": 4,
   "id": "3b659b81",
   "metadata": {},
   "outputs": [],
   "source": [
    "pd.set_option('display.max_rows', 500)\n",
    "pd.set_option('display.max_columns', 500)\n",
    "pd.set_option('display.width', 1000)"
   ]
  },
  {
   "cell_type": "code",
   "execution_count": 5,
   "id": "e533e234",
   "metadata": {},
   "outputs": [
    {
     "data": {
      "text/html": [
       "<div>\n",
       "<style scoped>\n",
       "    .dataframe tbody tr th:only-of-type {\n",
       "        vertical-align: middle;\n",
       "    }\n",
       "\n",
       "    .dataframe tbody tr th {\n",
       "        vertical-align: top;\n",
       "    }\n",
       "\n",
       "    .dataframe thead th {\n",
       "        text-align: right;\n",
       "    }\n",
       "</style>\n",
       "<table border=\"1\" class=\"dataframe\">\n",
       "  <thead>\n",
       "    <tr style=\"text-align: right;\">\n",
       "      <th></th>\n",
       "      <th>complaint_number</th>\n",
       "      <th>date_filed</th>\n",
       "      <th>closed_date</th>\n",
       "      <th>block</th>\n",
       "      <th>lot</th>\n",
       "      <th>parcel_number</th>\n",
       "      <th>street_number</th>\n",
       "      <th>street_name</th>\n",
       "      <th>street_suffix</th>\n",
       "      <th>zip_code</th>\n",
       "      <th>complaint_description</th>\n",
       "      <th>status</th>\n",
       "      <th>receiving_division</th>\n",
       "      <th>assigned_division</th>\n",
       "      <th>analysis_neighborhood</th>\n",
       "      <th>supervisor_district</th>\n",
       "      <th>point</th>\n",
       "      <th>:@computed_region_6qbp_sg9q</th>\n",
       "      <th>:@computed_region_qgnn_b9vv</th>\n",
       "      <th>:@computed_region_26cr_cadq</th>\n",
       "      <th>:@computed_region_ajp5_b2md</th>\n",
       "      <th>:@computed_region_rxqg_mtj9</th>\n",
       "      <th>:@computed_region_yftq_j783</th>\n",
       "      <th>:@computed_region_jx4q_fizf</th>\n",
       "      <th>:@computed_region_bh8s_q3mv</th>\n",
       "      <th>:@computed_region_jwn9_ihcz</th>\n",
       "      <th>unit</th>\n",
       "      <th>date_1st_nov_issued</th>\n",
       "      <th>last_inspection_date</th>\n",
       "      <th>date_abated</th>\n",
       "      <th>final_warning_letter_issued</th>\n",
       "      <th>nov_type</th>\n",
       "      <th>director_hearing_date</th>\n",
       "      <th>date_2nd_nov_issued</th>\n",
       "      <th>date_referred_to_city_attorney</th>\n",
       "    </tr>\n",
       "  </thead>\n",
       "  <tbody>\n",
       "    <tr>\n",
       "      <th>0</th>\n",
       "      <td>202063833</td>\n",
       "      <td>2020-10-29T00:00:00.000</td>\n",
       "      <td>2020-11-06T00:00:00.000</td>\n",
       "      <td>1682</td>\n",
       "      <td>008</td>\n",
       "      <td>1682008</td>\n",
       "      <td>861</td>\n",
       "      <td>39th</td>\n",
       "      <td>Av</td>\n",
       "      <td>94121.0</td>\n",
       "      <td>Date last observed: 28-oct-20;    time last ob...</td>\n",
       "      <td>Not Active</td>\n",
       "      <td>Building Inspection Division</td>\n",
       "      <td>Building Inspection Division</td>\n",
       "      <td>Outer Richmond</td>\n",
       "      <td>1.0</td>\n",
       "      <td>{'type': 'Point', 'coordinates': [-122.4995673...</td>\n",
       "      <td>8.0</td>\n",
       "      <td>8.0</td>\n",
       "      <td>4.0</td>\n",
       "      <td>29.0</td>\n",
       "      <td>2.0</td>\n",
       "      <td>11.0</td>\n",
       "      <td>9.0</td>\n",
       "      <td>55.0</td>\n",
       "      <td>8.0</td>\n",
       "      <td>NaN</td>\n",
       "      <td>NaN</td>\n",
       "      <td>NaN</td>\n",
       "      <td>NaN</td>\n",
       "      <td>NaN</td>\n",
       "      <td>NaN</td>\n",
       "      <td>NaN</td>\n",
       "      <td>NaN</td>\n",
       "      <td>NaN</td>\n",
       "    </tr>\n",
       "    <tr>\n",
       "      <th>1</th>\n",
       "      <td>202174253</td>\n",
       "      <td>2021-03-16T00:00:00.000</td>\n",
       "      <td>2021-03-18T00:00:00.000</td>\n",
       "      <td>0942</td>\n",
       "      <td>013</td>\n",
       "      <td>0942013</td>\n",
       "      <td>2758</td>\n",
       "      <td>Filbert</td>\n",
       "      <td>St</td>\n",
       "      <td>94123.0</td>\n",
       "      <td>Date last observed: 11-mar-21;    time last ob...</td>\n",
       "      <td>Not Active</td>\n",
       "      <td>Building Inspection Division</td>\n",
       "      <td>Building Inspection Division</td>\n",
       "      <td>Marina</td>\n",
       "      <td>2.0</td>\n",
       "      <td>{'type': 'Point', 'coordinates': [-122.4449567...</td>\n",
       "      <td>14.0</td>\n",
       "      <td>4.0</td>\n",
       "      <td>6.0</td>\n",
       "      <td>13.0</td>\n",
       "      <td>1.0</td>\n",
       "      <td>13.0</td>\n",
       "      <td>6.0</td>\n",
       "      <td>57.0</td>\n",
       "      <td>14.0</td>\n",
       "      <td>NaN</td>\n",
       "      <td>NaN</td>\n",
       "      <td>NaN</td>\n",
       "      <td>NaN</td>\n",
       "      <td>NaN</td>\n",
       "      <td>NaN</td>\n",
       "      <td>NaN</td>\n",
       "      <td>NaN</td>\n",
       "      <td>NaN</td>\n",
       "    </tr>\n",
       "    <tr>\n",
       "      <th>2</th>\n",
       "      <td>201949921</td>\n",
       "      <td>2019-04-30T00:00:00.000</td>\n",
       "      <td>2019-05-01T00:00:00.000</td>\n",
       "      <td>3577</td>\n",
       "      <td>033</td>\n",
       "      <td>3577033</td>\n",
       "      <td>523</td>\n",
       "      <td>Guerrero</td>\n",
       "      <td>St</td>\n",
       "      <td>94110.0</td>\n",
       "      <td>At address 523 guerrero st --- caller advises ...</td>\n",
       "      <td>Not Active</td>\n",
       "      <td>Inspection Services</td>\n",
       "      <td>Building Inspection Division</td>\n",
       "      <td>Mission</td>\n",
       "      <td>8.0</td>\n",
       "      <td>{'type': 'Point', 'coordinates': [-122.4236051...</td>\n",
       "      <td>37.0</td>\n",
       "      <td>3.0</td>\n",
       "      <td>5.0</td>\n",
       "      <td>20.0</td>\n",
       "      <td>5.0</td>\n",
       "      <td>8.0</td>\n",
       "      <td>7.0</td>\n",
       "      <td>28859.0</td>\n",
       "      <td>37.0</td>\n",
       "      <td>0.0</td>\n",
       "      <td>NaN</td>\n",
       "      <td>NaN</td>\n",
       "      <td>NaN</td>\n",
       "      <td>NaN</td>\n",
       "      <td>NaN</td>\n",
       "      <td>NaN</td>\n",
       "      <td>NaN</td>\n",
       "      <td>NaN</td>\n",
       "    </tr>\n",
       "    <tr>\n",
       "      <th>3</th>\n",
       "      <td>202067121</td>\n",
       "      <td>2020-11-19T00:00:00.000</td>\n",
       "      <td>NaN</td>\n",
       "      <td>0868</td>\n",
       "      <td>042</td>\n",
       "      <td>0868042</td>\n",
       "      <td>160</td>\n",
       "      <td>Fillmore</td>\n",
       "      <td>St</td>\n",
       "      <td>94117.0</td>\n",
       "      <td>Car ran into front facade at window area. dama...</td>\n",
       "      <td>Active</td>\n",
       "      <td>Inspection Services</td>\n",
       "      <td>Building Inspection Division</td>\n",
       "      <td>Hayes Valley</td>\n",
       "      <td>5.0</td>\n",
       "      <td>{'type': 'Point', 'coordinates': [-122.4299793...</td>\n",
       "      <td>28.0</td>\n",
       "      <td>7.0</td>\n",
       "      <td>11.0</td>\n",
       "      <td>9.0</td>\n",
       "      <td>11.0</td>\n",
       "      <td>7.0</td>\n",
       "      <td>6.0</td>\n",
       "      <td>29492.0</td>\n",
       "      <td>28.0</td>\n",
       "      <td>NaN</td>\n",
       "      <td>2020-11-19T00:00:00.000</td>\n",
       "      <td>NaN</td>\n",
       "      <td>NaN</td>\n",
       "      <td>NaN</td>\n",
       "      <td>NaN</td>\n",
       "      <td>NaN</td>\n",
       "      <td>NaN</td>\n",
       "      <td>NaN</td>\n",
       "    </tr>\n",
       "    <tr>\n",
       "      <th>4</th>\n",
       "      <td>202172808</td>\n",
       "      <td>2021-02-01T00:00:00.000</td>\n",
       "      <td>NaN</td>\n",
       "      <td>3562</td>\n",
       "      <td>009</td>\n",
       "      <td>3562009</td>\n",
       "      <td>2352</td>\n",
       "      <td>Market</td>\n",
       "      <td>St</td>\n",
       "      <td>94114.0</td>\n",
       "      <td>Work without pemit. permits in filed status</td>\n",
       "      <td>Active</td>\n",
       "      <td>Building Inspection Division</td>\n",
       "      <td>Building Inspection Division</td>\n",
       "      <td>Castro/Upper Market</td>\n",
       "      <td>8.0</td>\n",
       "      <td>{'type': 'Point', 'coordinates': [-122.4345060...</td>\n",
       "      <td>28.0</td>\n",
       "      <td>7.0</td>\n",
       "      <td>5.0</td>\n",
       "      <td>5.0</td>\n",
       "      <td>5.0</td>\n",
       "      <td>15.0</td>\n",
       "      <td>8.0</td>\n",
       "      <td>28862.0</td>\n",
       "      <td>28.0</td>\n",
       "      <td>NaN</td>\n",
       "      <td>NaN</td>\n",
       "      <td>NaN</td>\n",
       "      <td>NaN</td>\n",
       "      <td>NaN</td>\n",
       "      <td>NaN</td>\n",
       "      <td>NaN</td>\n",
       "      <td>NaN</td>\n",
       "      <td>NaN</td>\n",
       "    </tr>\n",
       "  </tbody>\n",
       "</table>\n",
       "</div>"
      ],
      "text/plain": [
       "  complaint_number               date_filed              closed_date block  lot parcel_number  street_number street_name street_suffix  zip_code                              complaint_description      status            receiving_division             assigned_division analysis_neighborhood  supervisor_district                                              point  :@computed_region_6qbp_sg9q  :@computed_region_qgnn_b9vv  :@computed_region_26cr_cadq  :@computed_region_ajp5_b2md  :@computed_region_rxqg_mtj9  :@computed_region_yftq_j783  :@computed_region_jx4q_fizf  :@computed_region_bh8s_q3mv  :@computed_region_jwn9_ihcz  unit      date_1st_nov_issued last_inspection_date date_abated final_warning_letter_issued nov_type director_hearing_date date_2nd_nov_issued date_referred_to_city_attorney\n",
       "0        202063833  2020-10-29T00:00:00.000  2020-11-06T00:00:00.000  1682  008       1682008            861        39th            Av   94121.0  Date last observed: 28-oct-20;    time last ob...  Not Active  Building Inspection Division  Building Inspection Division        Outer Richmond                  1.0  {'type': 'Point', 'coordinates': [-122.4995673...                          8.0                          8.0                          4.0                         29.0                          2.0                         11.0                          9.0                         55.0                          8.0   NaN                      NaN                  NaN         NaN                         NaN      NaN                   NaN                 NaN                            NaN\n",
       "1        202174253  2021-03-16T00:00:00.000  2021-03-18T00:00:00.000  0942  013       0942013           2758     Filbert            St   94123.0  Date last observed: 11-mar-21;    time last ob...  Not Active  Building Inspection Division  Building Inspection Division                Marina                  2.0  {'type': 'Point', 'coordinates': [-122.4449567...                         14.0                          4.0                          6.0                         13.0                          1.0                         13.0                          6.0                         57.0                         14.0   NaN                      NaN                  NaN         NaN                         NaN      NaN                   NaN                 NaN                            NaN\n",
       "2        201949921  2019-04-30T00:00:00.000  2019-05-01T00:00:00.000  3577  033       3577033            523    Guerrero            St   94110.0  At address 523 guerrero st --- caller advises ...  Not Active           Inspection Services  Building Inspection Division               Mission                  8.0  {'type': 'Point', 'coordinates': [-122.4236051...                         37.0                          3.0                          5.0                         20.0                          5.0                          8.0                          7.0                      28859.0                         37.0   0.0                      NaN                  NaN         NaN                         NaN      NaN                   NaN                 NaN                            NaN\n",
       "3        202067121  2020-11-19T00:00:00.000                      NaN  0868  042       0868042            160    Fillmore            St   94117.0  Car ran into front facade at window area. dama...      Active           Inspection Services  Building Inspection Division          Hayes Valley                  5.0  {'type': 'Point', 'coordinates': [-122.4299793...                         28.0                          7.0                         11.0                          9.0                         11.0                          7.0                          6.0                      29492.0                         28.0   NaN  2020-11-19T00:00:00.000                  NaN         NaN                         NaN      NaN                   NaN                 NaN                            NaN\n",
       "4        202172808  2021-02-01T00:00:00.000                      NaN  3562  009       3562009           2352      Market            St   94114.0        Work without pemit. permits in filed status      Active  Building Inspection Division  Building Inspection Division   Castro/Upper Market                  8.0  {'type': 'Point', 'coordinates': [-122.4345060...                         28.0                          7.0                          5.0                          5.0                          5.0                         15.0                          8.0                      28862.0                         28.0   NaN                      NaN                  NaN         NaN                         NaN      NaN                   NaN                 NaN                            NaN"
      ]
     },
     "execution_count": 5,
     "metadata": {},
     "output_type": "execute_result"
    }
   ],
   "source": [
    "df.head()"
   ]
  },
  {
   "cell_type": "code",
   "execution_count": 6,
   "id": "279492da",
   "metadata": {
    "scrolled": true
   },
   "outputs": [
    {
     "data": {
      "text/plain": [
       "(267467, 35)"
      ]
     },
     "execution_count": 6,
     "metadata": {},
     "output_type": "execute_result"
    }
   ],
   "source": [
    "df.shape"
   ]
  },
  {
   "cell_type": "code",
   "execution_count": 7,
   "id": "4797c4b0",
   "metadata": {
    "scrolled": false
   },
   "outputs": [
    {
     "data": {
      "text/plain": [
       "31764    H9401941\n",
       "26233    H9400373\n",
       "23680    H9500114\n",
       "35095    H9500687\n",
       "31595    H9504120\n",
       "29221    H9600477\n",
       "22837    H9600677\n",
       "27238    H9601533\n",
       "30263    H9401809\n",
       "29162    H9600555\n",
       "Name: complaint_number, dtype: object"
      ]
     },
     "execution_count": 7,
     "metadata": {},
     "output_type": "execute_result"
    }
   ],
   "source": [
    "#view a sample of 10 complaint_numbers where the complaint contains a character instead of digit\n",
    "#this will help us understand why pandas couldn't parse this column as the index which was done in our fetch_data file\n",
    "df.loc[~df['complaint_number'].astype(str).str.isdigit(), 'complaint_number'].sample(10)"
   ]
  },
  {
   "cell_type": "code",
   "execution_count": 8,
   "id": "bd35d39e",
   "metadata": {},
   "outputs": [],
   "source": [
    "#replace the H's that occur in the complaint_number with ''\n",
    "df['complaint_number'] = pd.to_numeric(df['complaint_number'].replace('H','', regex = True))\n",
    "#set the index to the new complaint_number\n",
    "df.set_index('complaint_number', inplace = True)"
   ]
  },
  {
   "cell_type": "code",
   "execution_count": 9,
   "id": "eb85fab4",
   "metadata": {},
   "outputs": [
    {
     "data": {
      "text/plain": [
       "460"
      ]
     },
     "execution_count": 9,
     "metadata": {},
     "output_type": "execute_result"
    }
   ],
   "source": [
    "#check for duplicate rows\n",
    "df.duplicated().sum()"
   ]
  },
  {
   "cell_type": "code",
   "execution_count": 10,
   "id": "f0c21cce",
   "metadata": {},
   "outputs": [
    {
     "data": {
      "text/plain": [
       "date_filed                         object\n",
       "closed_date                        object\n",
       "block                              object\n",
       "lot                                object\n",
       "parcel_number                      object\n",
       "street_number                       int64\n",
       "street_name                        object\n",
       "street_suffix                      object\n",
       "zip_code                          float64\n",
       "complaint_description              object\n",
       "status                             object\n",
       "receiving_division                 object\n",
       "assigned_division                  object\n",
       "analysis_neighborhood              object\n",
       "supervisor_district               float64\n",
       "point                              object\n",
       ":@computed_region_6qbp_sg9q       float64\n",
       ":@computed_region_qgnn_b9vv       float64\n",
       ":@computed_region_26cr_cadq       float64\n",
       ":@computed_region_ajp5_b2md       float64\n",
       ":@computed_region_rxqg_mtj9       float64\n",
       ":@computed_region_yftq_j783       float64\n",
       ":@computed_region_jx4q_fizf       float64\n",
       ":@computed_region_bh8s_q3mv       float64\n",
       ":@computed_region_jwn9_ihcz       float64\n",
       "unit                              float64\n",
       "date_1st_nov_issued                object\n",
       "last_inspection_date               object\n",
       "date_abated                        object\n",
       "final_warning_letter_issued        object\n",
       "nov_type                           object\n",
       "director_hearing_date              object\n",
       "date_2nd_nov_issued                object\n",
       "date_referred_to_city_attorney     object\n",
       "dtype: object"
      ]
     },
     "execution_count": 10,
     "metadata": {},
     "output_type": "execute_result"
    }
   ],
   "source": [
    "#check data types\n",
    "df.dtypes"
   ]
  },
  {
   "cell_type": "code",
   "execution_count": 11,
   "id": "c5542b71",
   "metadata": {},
   "outputs": [
    {
     "data": {
      "text/plain": [
       "complaint_number\n",
       "200839911    Storage rooms have lots of wood.  no secondary...\n",
       "201858503    Needs to renew boiler permit for permit no 924...\n",
       "200344363                          Broken trap broken sidewalk\n",
       "9601345      Incipients building/housing code violations in...\n",
       "200557919    Bathroom ceiling has hole.  can't lofcate leak...\n",
       "201494952    Paint chips  peeling (shared wall) into shared...\n",
       "200011927                   Routine inspection (exterior only)\n",
       "201466441    Leak in the wall causing water to drip from th...\n",
       "201153997    Health and safety inspection of apartment hous...\n",
       "201192326                       Alarm panel not yet certified.\n",
       "Name: complaint_description, dtype: object"
      ]
     },
     "metadata": {},
     "output_type": "display_data"
    }
   ],
   "source": [
    "#examine a sample of complaint descriptions\n",
    "display(df.complaint_description.sample(10))"
   ]
  },
  {
   "cell_type": "code",
   "execution_count": 12,
   "id": "b03711f9",
   "metadata": {},
   "outputs": [
    {
     "data": {
      "text/plain": [
       "date_filed                             0\n",
       "closed_date                       197523\n",
       "block                                  0\n",
       "lot                                    0\n",
       "parcel_number                       3719\n",
       "street_number                          0\n",
       "street_name                            0\n",
       "street_suffix                          0\n",
       "zip_code                            1076\n",
       "complaint_description                432\n",
       "status                                 0\n",
       "receiving_division                     0\n",
       "assigned_division                      8\n",
       "analysis_neighborhood               3715\n",
       "supervisor_district                 3715\n",
       "point                               3704\n",
       ":@computed_region_6qbp_sg9q         3732\n",
       ":@computed_region_qgnn_b9vv         3773\n",
       ":@computed_region_26cr_cadq         3741\n",
       ":@computed_region_ajp5_b2md         3746\n",
       ":@computed_region_rxqg_mtj9         3741\n",
       ":@computed_region_yftq_j783         3829\n",
       ":@computed_region_jx4q_fizf         3774\n",
       ":@computed_region_bh8s_q3mv         3709\n",
       ":@computed_region_jwn9_ihcz         3732\n",
       "unit                              232318\n",
       "date_1st_nov_issued               157959\n",
       "last_inspection_date              134345\n",
       "date_abated                        76026\n",
       "final_warning_letter_issued       248762\n",
       "nov_type                          173684\n",
       "director_hearing_date             252512\n",
       "date_2nd_nov_issued               256858\n",
       "date_referred_to_city_attorney    267030\n",
       "dtype: int64"
      ]
     },
     "execution_count": 12,
     "metadata": {},
     "output_type": "execute_result"
    }
   ],
   "source": [
    "#determine where null values are located\n",
    "df.isna().sum()"
   ]
  },
  {
   "cell_type": "code",
   "execution_count": 13,
   "id": "afce1df7",
   "metadata": {},
   "outputs": [],
   "source": [
    "#drop the columns that have null complaint descriptions\n",
    "df.dropna(subset = ['complaint_description'], inplace = True)"
   ]
  },
  {
   "cell_type": "code",
   "execution_count": 14,
   "id": "8edd9aaf",
   "metadata": {},
   "outputs": [
    {
     "data": {
      "text/plain": [
       "Routine inspection                                                           19466\n",
       "Routine                                                                      12653\n",
       "Routine safety inspection                                                     4664\n",
       "Routine inspection.                                                           1584\n",
       "Routines.                                                                     1519\n",
       "Vacant storefront                                                             1506\n",
       "Routines                                                                      1317\n",
       "Vacant building                                                               1176\n",
       "No heat                                                                       1023\n",
       "Unsafe bldg.                                                                   963\n",
       "Routine inspection of common areas of subject property.                        924\n",
       "Routine apartment house inspection                                             882\n",
       "Health and safety inspection of apartment house. sec.302.(a)hc                 765\n",
       "Sched rt.                                                                      668\n",
       "Vacant commercial storefront                                                   607\n",
       "No heat.                                                                       567\n",
       "Routine inspection of common areas.                                            566\n",
       "Apt. routine inspection.                                                       466\n",
       "Work w/out permit.                                                             447\n",
       "Routine inspection of the (common area) building sec.(303 a s.f.h.c.)          445\n",
       "Dbi/routine inspection                                                         434\n",
       "Illegal unit.                                                                  425\n",
       "Failure to comply with the vacant or abandoned building ordinance 194-09.      406\n",
       "Prescheduled routine inspection                                                386\n",
       "Soft story screening form not returned.                                        382\n",
       "Routine inspection of the (common area) building  sec.(303 a s.f.h.c).         379\n",
       "His routine inspection                                                         365\n",
       "Task force inspection                                                          348\n",
       "Expired permit.                                                                348\n",
       "Routine apartment house inspection.                                            311\n",
       "Annual routine inspection.                                                     292\n",
       "Annual routine inspection                                                      283\n",
       "Illegal unit                                                                   275\n",
       "Prescheduled routine                                                           260\n",
       "Work w/out a permit.                                                           258\n",
       "Possible illegal unit.                                                         253\n",
       "Work without permit.                                                           252\n",
       "Soft story tier 3.  permit not filed.                                          249\n",
       "Routine inspection (exterior only)                                             248\n",
       "Annual routine insp                                                            238\n",
       "Failure to comply with sof story tier iii                                      190\n",
       "Task force insp.                                                               187\n",
       "No hot water                                                                   181\n",
       "His/dbi routine inspection                                                     181\n",
       "Fire damage                                                                    178\n",
       "Additional work permit required                                                177\n",
       "General maintenance                                                            176\n",
       "His health and safety routine inspection                                       174\n",
       "Possible illegal unit                                                          174\n",
       "Annual hotel inspection                                                        171\n",
       "Name: complaint_description, dtype: int64"
      ]
     },
     "execution_count": 14,
     "metadata": {},
     "output_type": "execute_result"
    }
   ],
   "source": [
    "#view the most common 50 complaint descriptions\n",
    "df.complaint_description.value_counts().sort_values(ascending = False).head(50)"
   ]
  },
  {
   "cell_type": "code",
   "execution_count": null,
   "id": "e53fa9f7",
   "metadata": {},
   "outputs": [],
   "source": []
  }
 ],
 "metadata": {
  "kernelspec": {
   "display_name": "Python3 (condaenv)",
   "language": "python",
   "name": "condaenv"
  },
  "language_info": {
   "codemirror_mode": {
    "name": "ipython",
    "version": 3
   },
   "file_extension": ".py",
   "mimetype": "text/x-python",
   "name": "python",
   "nbconvert_exporter": "python",
   "pygments_lexer": "ipython3",
   "version": "3.9.5"
  },
  "toc": {
   "base_numbering": 1,
   "nav_menu": {},
   "number_sections": false,
   "sideBar": true,
   "skip_h1_title": false,
   "title_cell": "Table of Contents",
   "title_sidebar": "Contents",
   "toc_cell": true,
   "toc_position": {},
   "toc_section_display": true,
   "toc_window_display": true
  }
 },
 "nbformat": 4,
 "nbformat_minor": 5
}
