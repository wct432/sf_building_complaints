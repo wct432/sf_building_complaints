{
 "cells": [
  {
   "cell_type": "markdown",
   "id": "2cf3da79",
   "metadata": {
    "toc": true
   },
   "source": [
    "<h1>Table of Contents<span class=\"tocSkip\"></span></h1>\n",
    "<div class=\"toc\"><ul class=\"toc-item\"></ul></div>"
   ]
  },
  {
   "cell_type": "code",
   "execution_count": 30,
   "id": "6b4eea1c",
   "metadata": {},
   "outputs": [],
   "source": [
    "from imblearn.pipeline import make_pipeline\n",
    "from imblearn.over_sampling import SMOTENC\n",
    "import sys\n",
    "import numpy as np\n",
    "from numpy import array\n",
    "import os\n",
    "import pandas as pd\n",
    "import pickle\n",
    "from tqdm.auto import tqdm\n",
    "sys.path.append('../')\n",
    "from src.pipeline_helpers import get_proportions\n",
    "from src.clean_data import normalize_text\n",
    "from sklearn.utils import class_weight\n",
    "from sklearn.model_selection import train_test_split\n",
    "import tensorflow as tf\n",
    "from tensorflow.keras.preprocessing.text import Tokenizer\n",
    "from tensorflow.keras.preprocessing.sequence import pad_sequences\n",
    "from tensorflow.keras.utils import to_categorical\n",
    "from keras.layers import Input, Dense, Embedding, Flatten, Activation, LeakyReLU,Bidirectional, LSTM, Dropout\n",
    "from keras.models import Sequential\n",
    "from keras.callbacks import ModelCheckpoint"
   ]
  },
  {
   "cell_type": "code",
   "execution_count": 3,
   "id": "de1a32e2",
   "metadata": {},
   "outputs": [],
   "source": [
    "working_dir = os.getcwd()\n",
    "data_path = os.path.dirname(working_dir) + '/data/'"
   ]
  },
  {
   "cell_type": "code",
   "execution_count": 4,
   "id": "a5183a67",
   "metadata": {},
   "outputs": [],
   "source": [
    "X = np.load(data_path + 'X_lemmatized_prepared.npy')\n",
    "y = np.load(data_path + 'y_lemmatized_prepared.npy')"
   ]
  },
  {
   "cell_type": "code",
   "execution_count": 5,
   "id": "bc2c68f4",
   "metadata": {},
   "outputs": [],
   "source": [
    "#loading the tokenizer\n",
    "with open('stemmed_tokenizer_and_weights.pickle', 'rb') as f:\n",
    "    stemmed_data = pickle.load(f)\n",
    "\n",
    "stemmed_class_weights = stemmed_data[0]\n",
    "stemmed_tokenizer = stemmed_data[1]"
   ]
  },
  {
   "cell_type": "code",
   "execution_count": 6,
   "id": "19826456",
   "metadata": {},
   "outputs": [],
   "source": [
    "#loading the tokenizer\n",
    "with open('lemmatized_tokenizer_and_weights.pickle', 'rb') as f:\n",
    "    lemmatized_data = pickle.load(f)\n",
    "\n",
    "lemmatized_class_weights = lemmatized_data[0]\n",
    "lemmatized_tokenizer = lemmatized_data[1]"
   ]
  },
  {
   "cell_type": "code",
   "execution_count": 7,
   "id": "5b58d99e",
   "metadata": {},
   "outputs": [
    {
     "name": "stdout",
     "output_type": "stream",
     "text": [
      "[{0: 0.34422726120068387, 1: 5.178850532274937, 2: 0.4602384272550789, 3: 2.638870598563948, 4: 3.2109228949677617, 5: 25.856067588325654}, <keras_preprocessing.text.Tokenizer object at 0x7ff0fcd3a790>]\n"
     ]
    }
   ],
   "source": [
    "print(lemmatized_data)"
   ]
  },
  {
   "cell_type": "code",
   "execution_count": 8,
   "id": "b33952ae",
   "metadata": {},
   "outputs": [
    {
     "name": "stdout",
     "output_type": "stream",
     "text": [
      "[{0: 0.3525764366557979, 1: 5.548715624055606, 2: 0.4836829099952055, 3: 1.8841922705908913, 4: 2.8652777777777776, 5: 27.543804380438043}, <keras_preprocessing.text.Tokenizer object at 0x7ff0fcce8f40>]\n"
     ]
    }
   ],
   "source": [
    "print(stemmed_data)"
   ]
  },
  {
   "cell_type": "code",
   "execution_count": 9,
   "id": "07a4535f",
   "metadata": {},
   "outputs": [
    {
     "name": "stdout",
     "output_type": "stream",
     "text": [
      "{0: 0.34422726120068387, 1: 5.178850532274937, 2: 0.4602384272550789, 3: 2.638870598563948, 4: 3.2109228949677617, 5: 25.856067588325654}\n"
     ]
    }
   ],
   "source": [
    "print(lemmatized_class_weights)"
   ]
  },
  {
   "cell_type": "code",
   "execution_count": 10,
   "id": "21971d93",
   "metadata": {},
   "outputs": [
    {
     "name": "stdout",
     "output_type": "stream",
     "text": [
      "{0: 0.3525764366557979, 1: 5.548715624055606, 2: 0.4836829099952055, 3: 1.8841922705908913, 4: 2.8652777777777776, 5: 27.543804380438043}\n"
     ]
    }
   ],
   "source": [
    "print(stemmed_class_weights)"
   ]
  },
  {
   "cell_type": "code",
   "execution_count": 17,
   "id": "757cceea",
   "metadata": {},
   "outputs": [
    {
     "data": {
      "text/plain": [
       "(168323, 200)"
      ]
     },
     "execution_count": 17,
     "metadata": {},
     "output_type": "execute_result"
    }
   ],
   "source": [
    "X.shape"
   ]
  },
  {
   "cell_type": "code",
   "execution_count": 18,
   "id": "ca25fc2e",
   "metadata": {},
   "outputs": [
    {
     "data": {
      "text/plain": [
       "(168323, 6)"
      ]
     },
     "execution_count": 18,
     "metadata": {},
     "output_type": "execute_result"
    }
   ],
   "source": [
    "y.shape"
   ]
  },
  {
   "cell_type": "code",
   "execution_count": 19,
   "id": "6cb77630",
   "metadata": {},
   "outputs": [
    {
     "name": "stdout",
     "output_type": "stream",
     "text": [
      "[[  13    5    6 ...    0    0    0]\n",
      " [ 370  212  270 ...    0    0    0]\n",
      " [ 105  208   52 ...    0    0    0]\n",
      " ...\n",
      " [  27  888   27 ...    0    0    0]\n",
      " [ 893 1129   12 ...    0    0    0]\n",
      " [1199  102   25 ...    0    0    0]]\n"
     ]
    }
   ],
   "source": [
    "print(X)"
   ]
  },
  {
   "cell_type": "code",
   "execution_count": 20,
   "id": "0ad2bd31",
   "metadata": {},
   "outputs": [
    {
     "name": "stdout",
     "output_type": "stream",
     "text": [
      "[[0 0 0 0 1 0]\n",
      " [0 0 0 1 0 0]\n",
      " [0 0 0 0 1 0]\n",
      " ...\n",
      " [0 0 0 0 1 0]\n",
      " [1 0 0 0 0 0]\n",
      " [0 0 0 0 1 0]]\n"
     ]
    }
   ],
   "source": [
    "print(y)"
   ]
  },
  {
   "cell_type": "code",
   "execution_count": 21,
   "id": "333a6bc3",
   "metadata": {},
   "outputs": [
    {
     "data": {
      "text/plain": [
       "(168323, 200)"
      ]
     },
     "execution_count": 21,
     "metadata": {},
     "output_type": "execute_result"
    }
   ],
   "source": [
    "X.shape"
   ]
  },
  {
   "cell_type": "code",
   "execution_count": 22,
   "id": "0a0179ec",
   "metadata": {},
   "outputs": [
    {
     "data": {
      "text/plain": [
       "(168323, 6)"
      ]
     },
     "execution_count": 22,
     "metadata": {},
     "output_type": "execute_result"
    }
   ],
   "source": [
    "y.shape"
   ]
  },
  {
   "cell_type": "code",
   "execution_count": 23,
   "id": "4df520a3",
   "metadata": {},
   "outputs": [],
   "source": [
    "X_train, X_test, y_train, y_test = train_test_split(X, y, test_size = 0.2, random_state = 42, stratify = y)"
   ]
  },
  {
   "cell_type": "markdown",
   "id": "0cb0bcb7",
   "metadata": {},
   "source": [
    "Now we will check the proportions of each class in the training set and test set to ensure that sklearn's stratify worked as expected. It's crucial to make sure each class is represented the same amount in each subset, so I defined a function in pipeline_helpers to calculate the normalized proportion of each class. "
   ]
  },
  {
   "cell_type": "code",
   "execution_count": 24,
   "id": "67539f5a",
   "metadata": {},
   "outputs": [
    {
     "name": "stdout",
     "output_type": "stream",
     "text": [
      "y_train proportions: \n",
      " {0: 0.3621322164297702, 1: 0.051909281290380076, 2: 0.006453385613925649, 3: 0.03219266586463485, 4: 0.48418215033640777, 5: 0.0631674315673781}\n",
      "\n",
      "y_test proportions: \n",
      " {0: 0.36215654240308925, 1: 0.05195306698351403, 2: 0.0064755680974305655, 3: 0.03216990940145552, 4: 0.48421208970741125, 5: 0.06318134561116887}\n"
     ]
    }
   ],
   "source": [
    "\n",
    "y_train_proportions = get_proportions(y_train)\n",
    "y_test_proportions = get_proportions(y_test)\n",
    "\n",
    "print(f\"y_train proportions: \\n {y_train_proportions}\\n\")\n",
    "print(f\"y_test proportions: \\n {y_test_proportions}\")"
   ]
  },
  {
   "cell_type": "code",
   "execution_count": 114,
   "id": "53b277d5",
   "metadata": {},
   "outputs": [
    {
     "name": "stdout",
     "output_type": "stream",
     "text": [
      "y_train proportions: \n",
      " {0: 0.3445756884637642, 1: 0.05817476256935698, 2: 0.006059161929400552, 3: 0.030043911903870374, 4: 0.4727167511999183, 5: 0.08846376416924805}\n",
      "\n"
     ]
    }
   ],
   "source": [
    "y_train_proportions = get_proportions(y_train)\n",
    "print(f\"y_train proportions: \\n {y_train_proportions}\\n\")"
   ]
  },
  {
   "cell_type": "code",
   "execution_count": 71,
   "id": "533b0489",
   "metadata": {},
   "outputs": [
    {
     "data": {
      "text/plain": [
       "(391188, 6)"
      ]
     },
     "execution_count": 71,
     "metadata": {},
     "output_type": "execute_result"
    }
   ],
   "source": [
    "y_train.shape"
   ]
  },
  {
   "cell_type": "code",
   "execution_count": 72,
   "id": "de612cef",
   "metadata": {},
   "outputs": [
    {
     "data": {
      "text/plain": [
       "(391188, 200)"
      ]
     },
     "execution_count": 72,
     "metadata": {},
     "output_type": "execute_result"
    }
   ],
   "source": [
    "X_train.shape"
   ]
  },
  {
   "cell_type": "code",
   "execution_count": 271,
   "id": "d70dae79",
   "metadata": {},
   "outputs": [
    {
     "data": {
      "text/plain": [
       "6"
      ]
     },
     "execution_count": 271,
     "metadata": {},
     "output_type": "execute_result"
    }
   ],
   "source": [
    "y_train.shape[1]"
   ]
  },
  {
   "cell_type": "code",
   "execution_count": 25,
   "id": "c0ab60a6",
   "metadata": {},
   "outputs": [],
   "source": [
    "num_words = 10000"
   ]
  },
  {
   "cell_type": "code",
   "execution_count": 35,
   "id": "e25bab89",
   "metadata": {},
   "outputs": [],
   "source": [
    "embed_dims = 32\n",
    "model = Sequential()\n",
    "model.add(Embedding(num_words, embed_dims, input_length=X_train.shape[1]))\n",
    "model.add(Bidirectional(LSTM(embed_dims, return_sequences=True)))\n",
    "model.add(Dense(embed_dims,activation='relu'))\n",
    "model.add(Dropout(0.2))\n",
    "model.add(Bidirectional(LSTM(embed_dims)))\n",
    "model.add(Dense(embed_dims,activation='relu'))\n",
    "model.add(Dropout(0.2))\n",
    "model.add(Dense(embed_dims,activation='relu'))\n",
    "model.add(Dropout(0.2))\n",
    "model.add(Dense(y_train.shape[1], activation='softmax'))"
   ]
  },
  {
   "cell_type": "code",
   "execution_count": 36,
   "id": "49f78bf4",
   "metadata": {},
   "outputs": [],
   "source": [
    "opt = tf.keras.optimizers.Adam()\n",
    "model.compile(\n",
    "    loss='categorical_crossentropy',\n",
    "    optimizer='adam',\n",
    "    metrics=['Accuracy','AUC',\n",
    "             'Precision','Recall']\n",
    ")\n"
   ]
  },
  {
   "cell_type": "code",
   "execution_count": 37,
   "id": "524e33dc",
   "metadata": {},
   "outputs": [],
   "source": [
    "#create callback\n",
    "model_path = os.path.dirname(working_dir) + '/models/'\n",
    "checkpoint = ModelCheckpoint(filepath=model_path+'LSTM_1_best_model.h5', \n",
    "                             monitor='val_loss',\n",
    "                             verbose=1, \n",
    "                             save_best_only=True,\n",
    "                             mode='min')\n",
    "callbacks = [checkpoint]"
   ]
  },
  {
   "cell_type": "code",
   "execution_count": 38,
   "id": "51a73b84",
   "metadata": {},
   "outputs": [
    {
     "name": "stdout",
     "output_type": "stream",
     "text": [
      "Epoch 1/10\n",
      "3367/3367 - 466s - loss: 2.5432 - Accuracy: 0.4771 - auc: 0.8317 - precision: 0.6503 - recall: 0.4240 - val_loss: 1.2189 - val_Accuracy: 0.5136 - val_auc: 0.8715 - val_precision: 0.7000 - val_recall: 0.4840\n",
      "\n",
      "Epoch 00001: val_loss improved from inf to 1.21893, saving model to /Users/WillemCole/Desktop/DataScience/Projects/sf_building_complaints/models/best_model.h5\n",
      "Epoch 2/10\n",
      "3367/3367 - 870s - loss: 1.9424 - Accuracy: 0.5225 - auc: 0.8740 - precision: 0.6719 - recall: 0.4849 - val_loss: 1.1902 - val_Accuracy: 0.5342 - val_auc: 0.8737 - val_precision: 0.6931 - val_recall: 0.4865\n",
      "\n",
      "Epoch 00002: val_loss improved from 1.21893 to 1.19019, saving model to /Users/WillemCole/Desktop/DataScience/Projects/sf_building_complaints/models/best_model.h5\n",
      "Epoch 3/10\n",
      "3367/3367 - 446s - loss: 1.8014 - Accuracy: 0.5433 - auc: 0.8851 - precision: 0.6729 - recall: 0.4959 - val_loss: 1.1455 - val_Accuracy: 0.5829 - val_auc: 0.8817 - val_precision: 0.6642 - val_recall: 0.4442\n",
      "\n",
      "Epoch 00003: val_loss improved from 1.19019 to 1.14549, saving model to /Users/WillemCole/Desktop/DataScience/Projects/sf_building_complaints/models/best_model.h5\n",
      "Epoch 4/10\n",
      "3367/3367 - 447s - loss: 1.6780 - Accuracy: 0.5851 - auc: 0.8950 - precision: 0.6808 - recall: 0.5153 - val_loss: 1.0277 - val_Accuracy: 0.6190 - val_auc: 0.9055 - val_precision: 0.6773 - val_recall: 0.5087\n",
      "\n",
      "Epoch 00004: val_loss improved from 1.14549 to 1.02767, saving model to /Users/WillemCole/Desktop/DataScience/Projects/sf_building_complaints/models/best_model.h5\n",
      "Epoch 5/10\n",
      "3367/3367 - 448s - loss: 1.5502 - Accuracy: 0.6181 - auc: 0.9070 - precision: 0.6842 - recall: 0.5505 - val_loss: 1.1367 - val_Accuracy: 0.5947 - val_auc: 0.8948 - val_precision: 0.6528 - val_recall: 0.5385\n",
      "\n",
      "Epoch 00005: val_loss did not improve from 1.02767\n",
      "Epoch 6/10\n",
      "3367/3367 - 449s - loss: 1.4720 - Accuracy: 0.6318 - auc: 0.9132 - precision: 0.6896 - recall: 0.5756 - val_loss: 1.0142 - val_Accuracy: 0.5892 - val_auc: 0.9100 - val_precision: 0.6368 - val_recall: 0.5386\n",
      "\n",
      "Epoch 00006: val_loss improved from 1.02767 to 1.01421, saving model to /Users/WillemCole/Desktop/DataScience/Projects/sf_building_complaints/models/best_model.h5\n",
      "Epoch 7/10\n",
      "3367/3367 - 466s - loss: 1.3966 - Accuracy: 0.6388 - auc: 0.9178 - precision: 0.6936 - recall: 0.5852 - val_loss: 0.9452 - val_Accuracy: 0.6493 - val_auc: 0.9224 - val_precision: 0.6910 - val_recall: 0.6027\n",
      "\n",
      "Epoch 00007: val_loss improved from 1.01421 to 0.94524, saving model to /Users/WillemCole/Desktop/DataScience/Projects/sf_building_complaints/models/best_model.h5\n",
      "Epoch 8/10\n",
      "3367/3367 - 461s - loss: 1.3475 - Accuracy: 0.6472 - auc: 0.9216 - precision: 0.6957 - recall: 0.6006 - val_loss: 1.0274 - val_Accuracy: 0.6315 - val_auc: 0.9118 - val_precision: 0.6851 - val_recall: 0.5853\n",
      "\n",
      "Epoch 00008: val_loss did not improve from 0.94524\n",
      "Epoch 9/10\n",
      "3367/3367 - 452s - loss: 1.3014 - Accuracy: 0.6527 - auc: 0.9238 - precision: 0.6976 - recall: 0.6082 - val_loss: 1.0101 - val_Accuracy: 0.6363 - val_auc: 0.9195 - val_precision: 0.6694 - val_recall: 0.6105\n",
      "\n",
      "Epoch 00009: val_loss did not improve from 0.94524\n",
      "Epoch 10/10\n",
      "3367/3367 - 449s - loss: 1.2557 - Accuracy: 0.6599 - auc: 0.9271 - precision: 0.7031 - recall: 0.6214 - val_loss: 0.9931 - val_Accuracy: 0.6197 - val_auc: 0.9200 - val_precision: 0.6562 - val_recall: 0.5894\n",
      "\n",
      "Epoch 00010: val_loss did not improve from 0.94524\n"
     ]
    }
   ],
   "source": [
    "num_epochs = 10\n",
    "history = model.fit(X_train, y_train, epochs=num_epochs, \n",
    "                    validation_split=0.2, verbose=2,\n",
    "                   class_weight=lemmatized_class_weights,\n",
    "                   callbacks=callbacks)"
   ]
  },
  {
   "cell_type": "code",
   "execution_count": 40,
   "id": "33328b05",
   "metadata": {},
   "outputs": [],
   "source": [
    " with open(model_path + 'LSTM_model_1_history.h5', 'wb') as f:\n",
    "        pickle.dump(history.history, f)\n"
   ]
  }
 ],
 "metadata": {
  "kernelspec": {
   "display_name": "Python [conda env:sf_building_complaints] *",
   "language": "python",
   "name": "conda-env-sf_building_complaints-py"
  },
  "language_info": {
   "codemirror_mode": {
    "name": "ipython",
    "version": 3
   },
   "file_extension": ".py",
   "mimetype": "text/x-python",
   "name": "python",
   "nbconvert_exporter": "python",
   "pygments_lexer": "ipython3",
   "version": "3.9.5"
  },
  "toc": {
   "base_numbering": 1,
   "nav_menu": {},
   "number_sections": false,
   "sideBar": true,
   "skip_h1_title": false,
   "title_cell": "Table of Contents",
   "title_sidebar": "Contents",
   "toc_cell": true,
   "toc_position": {
    "height": "calc(100% - 180px)",
    "left": "10px",
    "top": "150px",
    "width": "512px"
   },
   "toc_section_display": true,
   "toc_window_display": true
  }
 },
 "nbformat": 4,
 "nbformat_minor": 5
}
