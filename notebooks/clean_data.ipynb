{
 "cells": [
  {
   "cell_type": "markdown",
   "id": "2dc25199",
   "metadata": {
    "toc": true
   },
   "source": [
    "<h1>Table of Contents<span class=\"tocSkip\"></span></h1>\n",
    "<div class=\"toc\"><ul class=\"toc-item\"></ul></div>"
   ]
  },
  {
   "cell_type": "code",
   "execution_count": 130,
   "id": "4c9b50d1",
   "metadata": {},
   "outputs": [],
   "source": [
    "import sys\n",
    "import numpy as np\n",
    "import os\n",
    "import pandas as pd\n",
    "from tqdm.auto import tqdm\n",
    "sys.path.append('../')\n",
    "from src.clean_data import normalize_text\n",
    "from sklearn.utils import class_weight\n",
    "from tensorflow.keras.preprocessing.text import Tokenizer\n",
    "from tensorflow.keras.preprocessing.sequence import pad_sequences"
   ]
  },
  {
   "cell_type": "code",
   "execution_count": 131,
   "id": "38fe255c",
   "metadata": {},
   "outputs": [],
   "source": [
    "working_dir = os.getcwd()\n",
    "data_path = os.path.dirname(working_dir) + '/data/'\n",
    "df = pd.read_csv(data_path + 'preprocessed.csv')"
   ]
  },
  {
   "cell_type": "code",
   "execution_count": 132,
   "id": "f50b302e",
   "metadata": {},
   "outputs": [
    {
     "data": {
      "text/html": [
       "<div>\n",
       "<style scoped>\n",
       "    .dataframe tbody tr th:only-of-type {\n",
       "        vertical-align: middle;\n",
       "    }\n",
       "\n",
       "    .dataframe tbody tr th {\n",
       "        vertical-align: top;\n",
       "    }\n",
       "\n",
       "    .dataframe thead th {\n",
       "        text-align: right;\n",
       "    }\n",
       "</style>\n",
       "<table border=\"1\" class=\"dataframe\">\n",
       "  <thead>\n",
       "    <tr style=\"text-align: right;\">\n",
       "      <th></th>\n",
       "      <th>complaint_description</th>\n",
       "      <th>assigned_division</th>\n",
       "    </tr>\n",
       "  </thead>\n",
       "  <tbody>\n",
       "    <tr>\n",
       "      <th>0</th>\n",
       "      <td>Date last observed: 29-jun-20;    time last ob...</td>\n",
       "      <td>Housing Inspection Services</td>\n",
       "    </tr>\n",
       "    <tr>\n",
       "      <th>1</th>\n",
       "      <td>Unpermitted interior framing at 3rd level atti...</td>\n",
       "      <td>Electrical Inspection Division</td>\n",
       "    </tr>\n",
       "    <tr>\n",
       "      <th>2</th>\n",
       "      <td>Elevator (in the parking area )to condos is in...</td>\n",
       "      <td>Housing Inspection Services</td>\n",
       "    </tr>\n",
       "    <tr>\n",
       "      <th>3</th>\n",
       "      <td>Complainant is concerned about the lenght of t...</td>\n",
       "      <td>Building Inspection Division</td>\n",
       "    </tr>\n",
       "    <tr>\n",
       "      <th>4</th>\n",
       "      <td>Date last observed: 06-jan-21;    time last ob...</td>\n",
       "      <td>Building Inspection Division</td>\n",
       "    </tr>\n",
       "  </tbody>\n",
       "</table>\n",
       "</div>"
      ],
      "text/plain": [
       "                               complaint_description  \\\n",
       "0  Date last observed: 29-jun-20;    time last ob...   \n",
       "1  Unpermitted interior framing at 3rd level atti...   \n",
       "2  Elevator (in the parking area )to condos is in...   \n",
       "3  Complainant is concerned about the lenght of t...   \n",
       "4  Date last observed: 06-jan-21;    time last ob...   \n",
       "\n",
       "                assigned_division  \n",
       "0     Housing Inspection Services  \n",
       "1  Electrical Inspection Division  \n",
       "2     Housing Inspection Services  \n",
       "3    Building Inspection Division  \n",
       "4    Building Inspection Division  "
      ]
     },
     "execution_count": 132,
     "metadata": {},
     "output_type": "execute_result"
    }
   ],
   "source": [
    "df.head()"
   ]
  },
  {
   "cell_type": "code",
   "execution_count": 133,
   "id": "2f2b0282",
   "metadata": {},
   "outputs": [
    {
     "name": "stdout",
     "output_type": "stream",
     "text": [
      "Null: \n",
      " complaint_description    0\n",
      "assigned_division        0\n",
      "dtype: int64 \n",
      "\n",
      "Duplicates:  0\n"
     ]
    }
   ],
   "source": [
    "#ensure there are no null values or duplicates\n",
    "print(f\"Null: \\n {df.isna().sum()} \\n\")\n",
    "print(f\"Duplicates:  {df.duplicated().sum()}\")"
   ]
  },
  {
   "cell_type": "code",
   "execution_count": 134,
   "id": "db115452",
   "metadata": {},
   "outputs": [
    {
     "data": {
      "text/plain": [
       "(183607, 2)"
      ]
     },
     "execution_count": 134,
     "metadata": {},
     "output_type": "execute_result"
    }
   ],
   "source": [
    "df.shape"
   ]
  },
  {
   "cell_type": "code",
   "execution_count": 135,
   "id": "3f542d79",
   "metadata": {},
   "outputs": [
    {
     "data": {
      "text/plain": [
       "Housing Inspection Services       86793\n",
       "Building Inspection Division      63267\n",
       "Plumbing Inspection Division      16241\n",
       "Code Enforcement Section          10680\n",
       "Electrical Inspection Division     5515\n",
       "Disabled Access Division           1111\n",
       "Name: assigned_division, dtype: int64"
      ]
     },
     "execution_count": 135,
     "metadata": {},
     "output_type": "execute_result"
    }
   ],
   "source": [
    "df.assigned_division.value_counts()"
   ]
  },
  {
   "cell_type": "markdown",
   "id": "217f2744",
   "metadata": {},
   "source": [
    "Now that we have loaded our preprocessed data we're ready to prepare it for machine learning using the normalize_text function declared in our clean_data module. \n",
    "\n",
    "We will prepare a stemmed and lemmatized version of the data so that we can explore the change in performance from both approaches. Lemmatization takes significantly longer, but can yield improved accuracy. \n",
    "\n",
    "We are using tqdm.pandas to keep track of our functions with a progress bar. "
   ]
  },
  {
   "cell_type": "code",
   "execution_count": 136,
   "id": "34a637f7",
   "metadata": {},
   "outputs": [
    {
     "data": {
      "application/vnd.jupyter.widget-view+json": {
       "model_id": "d5d9a0237a3f4b4e884159ca6fdde64b",
       "version_major": 2,
       "version_minor": 0
      },
      "text/plain": [
       "  0%|          | 0/183607 [00:00<?, ?it/s]"
      ]
     },
     "metadata": {},
     "output_type": "display_data"
    }
   ],
   "source": [
    "#create stemmed text\n",
    "tqdm.pandas()\n",
    "stemmed = df.copy()\n",
    "stemmed['complaint_description'] = stemmed['complaint_description'].progress_apply(lambda x: normalize_text(x))\n",
    "stemmed.to_csv(data_path + '/stemmed_text.csv')"
   ]
  },
  {
   "cell_type": "code",
   "execution_count": 137,
   "id": "1958d612",
   "metadata": {},
   "outputs": [
    {
     "data": {
      "application/vnd.jupyter.widget-view+json": {
       "model_id": "4f03e9945ea64dfbaf2cb0fe2df1e8a3",
       "version_major": 2,
       "version_minor": 0
      },
      "text/plain": [
       "  0%|          | 0/183607 [00:00<?, ?it/s]"
      ]
     },
     "metadata": {},
     "output_type": "display_data"
    }
   ],
   "source": [
    "#create lemmatized text\n",
    "tqdm.pandas()\n",
    "lemmatized = df.copy()\n",
    "lemmatized['complaint_description'] = lemmatized['complaint_description'].progress_apply(lambda x: normalize_text(x, lemmatize = True))\n",
    "lemmatized.to_csv(data_path + '/lemmatized_text.csv')"
   ]
  },
  {
   "cell_type": "code",
   "execution_count": null,
   "id": "3f5f4c72",
   "metadata": {},
   "outputs": [],
   "source": [
    "# #define tf tokenizer\n",
    "# tokenizer = Tokenizer(num_words=5000, oov_token='<UNK>')\n",
    "\n",
    "# #fit tokenizer to text\n",
    "# tokenizer.fit_on_texts(lemmatized.complaint_description)\n",
    "\n",
    "# #define variables for word count and index\n",
    "# word_count = tokenizer.word_counts\n",
    "# word_index = tokenizer.word_index"
   ]
  },
  {
   "cell_type": "code",
   "execution_count": 138,
   "id": "5cf307fb",
   "metadata": {},
   "outputs": [],
   "source": [
    "lemm = pd.read_csv(data_path + 'lemmatized_text.csv',index_col=[0])"
   ]
  },
  {
   "cell_type": "code",
   "execution_count": 139,
   "id": "f0a98737",
   "metadata": {},
   "outputs": [
    {
     "data": {
      "text/html": [
       "<div>\n",
       "<style scoped>\n",
       "    .dataframe tbody tr th:only-of-type {\n",
       "        vertical-align: middle;\n",
       "    }\n",
       "\n",
       "    .dataframe tbody tr th {\n",
       "        vertical-align: top;\n",
       "    }\n",
       "\n",
       "    .dataframe thead th {\n",
       "        text-align: right;\n",
       "    }\n",
       "</style>\n",
       "<table border=\"1\" class=\"dataframe\">\n",
       "  <thead>\n",
       "    <tr style=\"text-align: right;\">\n",
       "      <th></th>\n",
       "      <th>complaint_description</th>\n",
       "      <th>assigned_division</th>\n",
       "    </tr>\n",
       "  </thead>\n",
       "  <tbody>\n",
       "    <tr>\n",
       "      <th>0</th>\n",
       "      <td>['date', 'last', 'observe', 'jun', 'time', 'la...</td>\n",
       "      <td>Housing Inspection Services</td>\n",
       "    </tr>\n",
       "    <tr>\n",
       "      <th>1</th>\n",
       "      <td>['unpermitte', 'interior', 'frame', 'rd', 'lev...</td>\n",
       "      <td>Electrical Inspection Division</td>\n",
       "    </tr>\n",
       "    <tr>\n",
       "      <th>2</th>\n",
       "      <td>['elevator', 'parking', 'area', 'condo', 'inop...</td>\n",
       "      <td>Housing Inspection Services</td>\n",
       "    </tr>\n",
       "    <tr>\n",
       "      <th>3</th>\n",
       "      <td>['complainant', 'concerned', 'lenght', 'time',...</td>\n",
       "      <td>Building Inspection Division</td>\n",
       "    </tr>\n",
       "    <tr>\n",
       "      <th>4</th>\n",
       "      <td>['date', 'last', 'observe', 'jan', 'time', 'la...</td>\n",
       "      <td>Building Inspection Division</td>\n",
       "    </tr>\n",
       "  </tbody>\n",
       "</table>\n",
       "</div>"
      ],
      "text/plain": [
       "                               complaint_description  \\\n",
       "0  ['date', 'last', 'observe', 'jun', 'time', 'la...   \n",
       "1  ['unpermitte', 'interior', 'frame', 'rd', 'lev...   \n",
       "2  ['elevator', 'parking', 'area', 'condo', 'inop...   \n",
       "3  ['complainant', 'concerned', 'lenght', 'time',...   \n",
       "4  ['date', 'last', 'observe', 'jan', 'time', 'la...   \n",
       "\n",
       "                assigned_division  \n",
       "0     Housing Inspection Services  \n",
       "1  Electrical Inspection Division  \n",
       "2     Housing Inspection Services  \n",
       "3    Building Inspection Division  \n",
       "4    Building Inspection Division  "
      ]
     },
     "execution_count": 139,
     "metadata": {},
     "output_type": "execute_result"
    }
   ],
   "source": [
    "lemm.head()"
   ]
  },
  {
   "cell_type": "code",
   "execution_count": 140,
   "id": "b55f9aac",
   "metadata": {},
   "outputs": [
    {
     "name": "stdout",
     "output_type": "stream",
     "text": [
      "complaint_description    0\n",
      "assigned_division        0\n",
      "dtype: int64\n",
      "Duplicated : 15284\n"
     ]
    }
   ],
   "source": [
    "print(lemm.isna().sum())\n",
    "print(\"Duplicated :\", lemm.duplicated().sum())"
   ]
  },
  {
   "cell_type": "code",
   "execution_count": 51,
   "id": "d5546e94",
   "metadata": {},
   "outputs": [],
   "source": [
    "duplicated_lemm = lemm[lemm.duplicated() == True]"
   ]
  },
  {
   "cell_type": "code",
   "execution_count": 141,
   "id": "ed608381",
   "metadata": {},
   "outputs": [
    {
     "data": {
      "text/plain": [
       "Housing Inspection Services       86793\n",
       "Building Inspection Division      63267\n",
       "Plumbing Inspection Division      16241\n",
       "Code Enforcement Section          10680\n",
       "Electrical Inspection Division     5515\n",
       "Disabled Access Division           1111\n",
       "Name: assigned_division, dtype: int64"
      ]
     },
     "execution_count": 141,
     "metadata": {},
     "output_type": "execute_result"
    }
   ],
   "source": [
    "lemm.assigned_division.value_counts()"
   ]
  },
  {
   "cell_type": "code",
   "execution_count": 52,
   "id": "f66b70d5",
   "metadata": {},
   "outputs": [
    {
     "data": {
      "text/plain": [
       "Plumbing Inspection Division      5610\n",
       "Housing Inspection Services       5295\n",
       "Building Inspection Division      2312\n",
       "Code Enforcement Section          1943\n",
       "Electrical Inspection Division      98\n",
       "Disabled Access Division            26\n",
       "Help Desk / Technical Services       4\n",
       "Name: assigned_division, dtype: int64"
      ]
     },
     "execution_count": 52,
     "metadata": {},
     "output_type": "execute_result"
    }
   ],
   "source": [
    "duplicated_lemm.assigned_division.value_counts()"
   ]
  },
  {
   "cell_type": "code",
   "execution_count": 142,
   "id": "abb0377e",
   "metadata": {},
   "outputs": [
    {
     "name": "stderr",
     "output_type": "stream",
     "text": [
      "/Users/WillemCole/miniconda3/envs/sf_building_complaints/lib/python3.9/site-packages/sklearn/utils/validation.py:70: FutureWarning: Pass classes=['Building Inspection Division' 'Code Enforcement Section'\n",
      " 'Disabled Access Division' 'Electrical Inspection Division'\n",
      " 'Housing Inspection Services' 'Plumbing Inspection Division'], y=0            Housing Inspection Services\n",
      "1         Electrical Inspection Division\n",
      "2            Housing Inspection Services\n",
      "3           Building Inspection Division\n",
      "4           Building Inspection Division\n",
      "                       ...              \n",
      "183602      Plumbing Inspection Division\n",
      "183603       Housing Inspection Services\n",
      "183604      Building Inspection Division\n",
      "183605       Housing Inspection Services\n",
      "183606      Plumbing Inspection Division\n",
      "Name: assigned_division, Length: 183607, dtype: object as keyword args. From version 1.0 (renaming of 0.25) passing these as positional arguments will result in an error\n",
      "  warnings.warn(f\"Pass {args_msg} as keyword args. From version \"\n"
     ]
    }
   ],
   "source": [
    "y_train = lemm.assigned_division\n",
    "class_weights = class_weight.compute_class_weight('balanced',\n",
    "                                                 np.unique(y_train),\n",
    "                                                 y_train)\n",
    "# class_weight_dict = dict(enumerate(class_weight,1))|"
   ]
  },
  {
   "cell_type": "code",
   "execution_count": 143,
   "id": "50c87d8b",
   "metadata": {},
   "outputs": [
    {
     "name": "stdout",
     "output_type": "stream",
     "text": [
      "[ 0.48368291  2.86527778 27.54380438  5.54871562  0.35257644  1.88419227]\n"
     ]
    }
   ],
   "source": [
    "print(class_weights)"
   ]
  },
  {
   "cell_type": "code",
   "execution_count": null,
   "id": "da401dbb",
   "metadata": {},
   "outputs": [],
   "source": []
  }
 ],
 "metadata": {
  "kernelspec": {
   "display_name": "Python [conda env:sf_building_complaints] *",
   "language": "python",
   "name": "conda-env-sf_building_complaints-py"
  },
  "language_info": {
   "codemirror_mode": {
    "name": "ipython",
    "version": 3
   },
   "file_extension": ".py",
   "mimetype": "text/x-python",
   "name": "python",
   "nbconvert_exporter": "python",
   "pygments_lexer": "ipython3",
   "version": "3.9.5"
  },
  "toc": {
   "base_numbering": 1,
   "nav_menu": {},
   "number_sections": false,
   "sideBar": true,
   "skip_h1_title": false,
   "title_cell": "Table of Contents",
   "title_sidebar": "Contents",
   "toc_cell": true,
   "toc_position": {},
   "toc_section_display": true,
   "toc_window_display": true
  }
 },
 "nbformat": 4,
 "nbformat_minor": 5
}
