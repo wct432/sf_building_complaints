{
 "cells": [
  {
   "cell_type": "markdown",
   "id": "8a48912b",
   "metadata": {
    "toc": true
   },
   "source": [
    "<h1>Table of Contents<span class=\"tocSkip\"></span></h1>\n",
    "<div class=\"toc\"><ul class=\"toc-item\"></ul></div>"
   ]
  },
  {
   "cell_type": "code",
   "execution_count": 13,
   "id": "09b93b60",
   "metadata": {},
   "outputs": [],
   "source": [
    "from imblearn.pipeline import make_pipeline\n",
    "from imblearn.over_sampling import SMOTENC\n",
    "import sys\n",
    "import numpy as np\n",
    "from numpy import array\n",
    "import os\n",
    "import pandas as pd\n",
    "import pickle\n",
    "from tqdm.auto import tqdm\n",
    "sys.path.append('../')\n",
    "from src.pipeline_helpers import get_proportions\n",
    "from src.clean_data import normalize_text\n",
    "from sklearn.utils import class_weight\n",
    "from sklearn.model_selection import train_test_split\n",
    "import tensorflow as tf\n",
    "from tensorflow.keras.preprocessing.text import Tokenizer\n",
    "from tensorflow.keras.preprocessing.sequence import pad_sequences\n",
    "from tensorflow.keras.utils import to_categorical\n",
    "from keras.layers import Input, Dense, Embedding, Flatten, Activation, LeakyReLU,Bidirectional, LSTM, Dropout\n",
    "from keras.models import Sequential\n",
    "from keras.callbacks import EarlyStopping"
   ]
  },
  {
   "cell_type": "code",
   "execution_count": 2,
   "id": "e422a0dd",
   "metadata": {},
   "outputs": [],
   "source": [
    "working_dir = os.getcwd()\n",
    "data_path = os.path.dirname(working_dir) + '/data/'\n",
    "model_path = os.path.dirname(working_dir) + '/models/'"
   ]
  },
  {
   "cell_type": "code",
   "execution_count": 9,
   "id": "749c4c47",
   "metadata": {},
   "outputs": [],
   "source": [
    "LSTM_model_1 = tf.keras.models.load_model(model_path + 'LSTM_model_1.h5')"
   ]
  },
  {
   "cell_type": "code",
   "execution_count": 10,
   "id": "9025b9fd",
   "metadata": {},
   "outputs": [
    {
     "name": "stdout",
     "output_type": "stream",
     "text": [
      "Model: \"sequential_5\"\n",
      "_________________________________________________________________\n",
      "Layer (type)                 Output Shape              Param #   \n",
      "=================================================================\n",
      "embedding_4 (Embedding)      (None, 200, 32)           320000    \n",
      "_________________________________________________________________\n",
      "bidirectional_5 (Bidirection (None, 200, 64)           16640     \n",
      "_________________________________________________________________\n",
      "dropout_1 (Dropout)          (None, 200, 64)           0         \n",
      "_________________________________________________________________\n",
      "bidirectional_6 (Bidirection (None, 64)                24832     \n",
      "_________________________________________________________________\n",
      "dropout_2 (Dropout)          (None, 64)                0         \n",
      "_________________________________________________________________\n",
      "dense_4 (Dense)              (None, 32)                2080      \n",
      "_________________________________________________________________\n",
      "dropout_3 (Dropout)          (None, 32)                0         \n",
      "_________________________________________________________________\n",
      "dense_5 (Dense)              (None, 6)                 198       \n",
      "=================================================================\n",
      "Total params: 363,750\n",
      "Trainable params: 363,750\n",
      "Non-trainable params: 0\n",
      "_________________________________________________________________\n"
     ]
    }
   ],
   "source": [
    "LSTM_model_1.summary()"
   ]
  },
  {
   "cell_type": "code",
   "execution_count": 14,
   "id": "998c499f",
   "metadata": {},
   "outputs": [],
   "source": [
    "with open(model_path + 'LSTM_model_1.h5', 'rb') as f:\n",
    "    LSTM_model_1_history = pickle.load(f)"
   ]
  },
  {
   "cell_type": "code",
   "execution_count": 16,
   "id": "6499bf41",
   "metadata": {},
   "outputs": [
    {
     "data": {
      "text/plain": [
       "{'loss': [2.3583333492279053,\n",
       "  1.8798182010650635,\n",
       "  1.6882113218307495,\n",
       "  1.5732160806655884,\n",
       "  1.4876817464828491,\n",
       "  1.4295520782470703,\n",
       "  1.37592351436615,\n",
       "  1.324317216873169,\n",
       "  1.2704265117645264,\n",
       "  1.2286410331726074],\n",
       " 'categorical_accuracy': [0.4907357692718506,\n",
       "  0.5411228537559509,\n",
       "  0.5697138905525208,\n",
       "  0.6008855700492859,\n",
       "  0.6220967769622803,\n",
       "  0.6375062465667725,\n",
       "  0.6473274827003479,\n",
       "  0.652145266532898,\n",
       "  0.6563596725463867,\n",
       "  0.6590052247047424],\n",
       " 'auc': [0.841568648815155,\n",
       "  0.8781232237815857,\n",
       "  0.8964454531669617,\n",
       "  0.9065050482749939,\n",
       "  0.9128274917602539,\n",
       "  0.9172062873840332,\n",
       "  0.9217450618743896,\n",
       "  0.9255342483520508,\n",
       "  0.9289644360542297,\n",
       "  0.9322299957275391],\n",
       " 'recall': [0.43719249963760376,\n",
       "  0.49314001202583313,\n",
       "  0.5123925805091858,\n",
       "  0.5297328233718872,\n",
       "  0.5522900819778442,\n",
       "  0.5750607848167419,\n",
       "  0.5943319201469421,\n",
       "  0.6065016984939575,\n",
       "  0.618188738822937,\n",
       "  0.6250951290130615],\n",
       " 'val_loss': [1.1180638074874878,\n",
       "  1.0780787467956543,\n",
       "  1.0266900062561035,\n",
       "  0.9617859125137329,\n",
       "  1.0321862697601318,\n",
       "  0.9309909343719482,\n",
       "  1.0547869205474854,\n",
       "  0.9836025238037109,\n",
       "  0.9531972408294678,\n",
       "  1.091597557067871],\n",
       " 'val_categorical_accuracy': [0.5389871001243591,\n",
       "  0.5736298561096191,\n",
       "  0.5846948027610779,\n",
       "  0.603705644607544,\n",
       "  0.5976904630661011,\n",
       "  0.6438437700271606,\n",
       "  0.6100549697875977,\n",
       "  0.6313678622245789,\n",
       "  0.6320362687110901,\n",
       "  0.600400984287262],\n",
       " 'val_auc': [0.8797270655632019,\n",
       "  0.8934182524681091,\n",
       "  0.9046290516853333,\n",
       "  0.9173370003700256,\n",
       "  0.9084330797195435,\n",
       "  0.9231218695640564,\n",
       "  0.907964825630188,\n",
       "  0.918795645236969,\n",
       "  0.9235242605209351,\n",
       "  0.9112178087234497],\n",
       " 'val_recall': [0.4762364327907562,\n",
       "  0.5056067109107971,\n",
       "  0.5157433748245239,\n",
       "  0.5323035717010498,\n",
       "  0.520793080329895,\n",
       "  0.596799373626709,\n",
       "  0.5528739094734192,\n",
       "  0.5937175154685974,\n",
       "  0.5981360673904419,\n",
       "  0.5755235552787781]}"
      ]
     },
     "metadata": {},
     "output_type": "display_data"
    }
   ],
   "source": [
    "display(LSTM_model_1_history)"
   ]
  },
  {
   "cell_type": "code",
   "execution_count": null,
   "id": "294a286e",
   "metadata": {},
   "outputs": [],
   "source": []
  }
 ],
 "metadata": {
  "kernelspec": {
   "display_name": "Python [conda env:sf_building_complaints] *",
   "language": "python",
   "name": "conda-env-sf_building_complaints-py"
  },
  "language_info": {
   "codemirror_mode": {
    "name": "ipython",
    "version": 3
   },
   "file_extension": ".py",
   "mimetype": "text/x-python",
   "name": "python",
   "nbconvert_exporter": "python",
   "pygments_lexer": "ipython3",
   "version": "3.9.5"
  },
  "toc": {
   "base_numbering": 1,
   "nav_menu": {},
   "number_sections": false,
   "sideBar": true,
   "skip_h1_title": false,
   "title_cell": "Table of Contents",
   "title_sidebar": "Contents",
   "toc_cell": true,
   "toc_position": {},
   "toc_section_display": true,
   "toc_window_display": true
  }
 },
 "nbformat": 4,
 "nbformat_minor": 5
}
